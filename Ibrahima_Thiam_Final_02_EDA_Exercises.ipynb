{
  "nbformat": 4,
  "nbformat_minor": 0,
  "metadata": {
    "colab": {
      "name": "Ibrahima - Thiam  -Final_02_EDA_Exercises.ipynb",
      "provenance": [],
      "collapsed_sections": [
        "CPvpAS2S2HG2",
        "OJULOKZJ1cjo",
        "NUNe9OrL13BM"
      ],
      "toc_visible": true,
      "include_colab_link": true
    },
    "kernelspec": {
      "name": "python3",
      "display_name": "Python 3"
    },
    "accelerator": "GPU"
  },
  "cells": [
    {
      "cell_type": "markdown",
      "metadata": {
        "id": "view-in-github",
        "colab_type": "text"
      },
      "source": [
        "<a href=\"https://colab.research.google.com/github/ibtkhalil/IA/blob/master/Ibrahima_Thiam_Final_02_EDA_Exercises.ipynb\" target=\"_parent\"><img src=\"https://colab.research.google.com/assets/colab-badge.svg\" alt=\"Open In Colab\"/></a>"
      ]
    },
    {
      "cell_type": "markdown",
      "metadata": {
        "id": "myT9u_9jtrwT",
        "colab_type": "text"
      },
      "source": [
        "#This notebook will permit you to manipulate Python libraries. It is divided into three parts. \n",
        "\n",
        "* Data Analysis and Manipulation (pandas)\n",
        "* Data Preparation (Matplolib)\n",
        "* Data Visualization (NumPy)\n"
      ]
    },
    {
      "cell_type": "code",
      "metadata": {
        "id": "_R6XER0wQkGE",
        "colab_type": "code",
        "colab": {}
      },
      "source": [
        ""
      ],
      "execution_count": null,
      "outputs": []
    },
    {
      "cell_type": "markdown",
      "metadata": {
        "id": "DG-DgJ1RQkoO",
        "colab_type": "text"
      },
      "source": [
        ""
      ]
    },
    {
      "cell_type": "code",
      "metadata": {
        "id": "nMNB58tqQlC2",
        "colab_type": "code",
        "colab": {}
      },
      "source": [
        ""
      ],
      "execution_count": null,
      "outputs": []
    },
    {
      "cell_type": "markdown",
      "metadata": {
        "id": "iGCqD_4quFS7",
        "colab_type": "text"
      },
      "source": [
        "#Part I - Pandas\n",
        "###Pandas is a fast, powerful, flexible and easy-to-use open source data analysis and manipulation library, built on top of the Python programming language."
      ]
    },
    {
      "cell_type": "markdown",
      "metadata": {
        "id": "CPvpAS2S2HG2",
        "colab_type": "text"
      },
      "source": [
        "###Description of the data"
      ]
    },
    {
      "cell_type": "markdown",
      "metadata": {
        "id": "hx42U67IEcwY",
        "colab_type": "text"
      },
      "source": [
        "Titanic Data Set\n",
        "\n",
        "The data set that we will be using is taken from Kaggle. The \"***titanic-train.csv***\" https://www.kaggle.com/hesh97/titanicdataset-traincsv file contains data for ***897*** of the real Titanic passengers. Each row represents one person. The columns describe different attributes about the passenger which includes:\n",
        "\n",
        "1. Passesnger ID\n",
        "2. Whether they Survived\n",
        "3. Passenger Class\n",
        "4. Name\n",
        "5. Sex\n",
        "6. Age\n",
        "7. Siblings Aboard\n",
        "8. Parents Aboard\n",
        "9. Ticket\n",
        "10. Fare paid in £s\n",
        "11. Cabin\n",
        "12. Port of Embarkation \n",
        "\n",
        "On ***April 15, 1912***, the largest passenger liner ever made collided with an iceberg during her maiden voyage. When the Titanic sank it killed ***1502*** out of ***2224*** passengers and crew. This sensational tragedy shocked the international community and led to *better safety regulations for ships*. One of the reasons that the shipwreck resulted in such loss of life was that there were not enough *lifeboats *for the passengers and crew. Although there was some element of luck involved in surviving the sinking, some groups of people were more likely to survive than others."
      ]
    },
    {
      "cell_type": "code",
      "metadata": {
        "id": "v7nL4JoVtL6r",
        "colab_type": "code",
        "colab": {}
      },
      "source": [
        "# Importing libraries\n",
        "import matplotlib.pyplot as plt\n",
        "import pandas as pd\n",
        "import numpy as np\n",
        "%matplotlib inline"
      ],
      "execution_count": null,
      "outputs": []
    },
    {
      "cell_type": "code",
      "metadata": {
        "id": "Z_iODCb8vnqN",
        "colab_type": "code",
        "colab": {
          "base_uri": "https://localhost:8080/",
          "height": 122
        },
        "outputId": "710372b0-32e4-4f2a-946d-d29ca60ff300"
      },
      "source": [
        "# Connecting Google Drive Data Files to Google Colab Notebook.\n",
        "# Load the Google Drive helper and mount the drive.\n",
        "from google.colab import drive\n",
        "\n",
        "# This will prompt for authorization. Click the link and provide the required information.\n",
        "\n",
        "drive.mount('/content/drive')"
      ],
      "execution_count": null,
      "outputs": [
        {
          "output_type": "stream",
          "text": [
            "Go to this URL in a browser: https://accounts.google.com/o/oauth2/auth?client_id=947318989803-6bn6qk8qdgf4n4g3pfee6491hc0brc4i.apps.googleusercontent.com&redirect_uri=urn%3aietf%3awg%3aoauth%3a2.0%3aoob&response_type=code&scope=email%20https%3a%2f%2fwww.googleapis.com%2fauth%2fdocs.test%20https%3a%2f%2fwww.googleapis.com%2fauth%2fdrive%20https%3a%2f%2fwww.googleapis.com%2fauth%2fdrive.photos.readonly%20https%3a%2f%2fwww.googleapis.com%2fauth%2fpeopleapi.readonly\n",
            "\n",
            "Enter your authorization code:\n",
            "··········\n",
            "Mounted at /content/drive\n"
          ],
          "name": "stdout"
        }
      ]
    },
    {
      "cell_type": "code",
      "metadata": {
        "id": "AOW5jYD8zQqK",
        "colab_type": "code",
        "colab": {
          "base_uri": "https://localhost:8080/",
          "height": 1000
        },
        "outputId": "a639fd9f-b39b-45ed-bd7f-1f1f054fd58c"
      },
      "source": [
        "# List the content of YOUR google drive\n",
        "!ls \"/content/drive/My Drive\""
      ],
      "execution_count": null,
      "outputs": [
        {
          "output_type": "stream",
          "text": [
            " 20180616_181040.jpg\n",
            " 20180617_201907.jpg\n",
            " 20180617_210751.jpg\n",
            " 403cbc78-a544-4d58-9607-6b8b536eebf3.jpg\n",
            "'Colab Notebooks'\n",
            " CV.gdoc\n",
            "'EMPLOI du TEMPS SR2 - SEMAINE S3 - 31-10-2016 au 05-11-2016.docx'\n",
            "'Getting started.pdf'\n",
            " IA\n",
            "'Ibrahima Thiam-IA-Notes.gdoc'\n",
            " IMG-20170210-WA0029.jpg\n",
            " IMG-20170210-WA0033.jpg\n",
            " IMG-20170501-WA0067.jpg\n",
            " IMG-20170501-WA0068.jpg\n",
            " IMG-20170501-WA0069.jpg\n",
            " IMG-20170501-WA0070.jpg\n",
            " IMG-20170501-WA0071.jpg\n",
            " IMG-20170501-WA0072.jpg\n",
            " IMG-20170501-WA0073.jpg\n",
            " IMG-20170501-WA0074.jpg\n",
            " IMG-20170501-WA0075.jpg\n",
            " IMG-20170501-WA0076.jpg\n",
            " IMG-20170501-WA0077.jpg\n",
            " IMG-20170501-WA0078.jpg\n",
            " IMG-20170501-WA0079.jpg\n",
            " IMG-20170501-WA0080.jpg\n",
            " IMG-20170501-WA0081.jpg\n",
            " IMG-20170501-WA0082.jpg\n",
            " IMG-20170501-WA0083.jpg\n",
            " IMG-20170501-WA0084.jpg\n",
            " IMG-20170501-WA0085.jpg\n",
            " IMG-20170501-WA0086.jpg\n",
            " IMG-20170501-WA0087.jpg\n",
            " IMG-20170501-WA0088.jpg\n",
            " IMG-20170501-WA0089.jpg\n",
            " IMG-20170501-WA0090.jpg\n",
            " IMG-20170501-WA0091.jpg\n",
            " IMG-20170501-WA0092.jpg\n",
            " IMG-20170501-WA0093.jpg\n",
            " IMG-20170501-WA0094.jpg\n",
            " IMG-20170501-WA0095.jpg\n",
            " IMG-20170503-WA0000.jpg\n",
            " IMG-20170503-WA0004.jpg\n",
            " IMG-20170503-WA0005.jpg\n",
            " IMG-20170503-WA0006.jpg\n",
            " IMG-20170503-WA0007.jpg\n",
            " IMG-20170503-WA0008.jpg\n",
            " IMG-20170503-WA0009.jpg\n",
            " IMG-20170503-WA0010.jpg\n",
            " IMG-20170503-WA0011.jpg\n",
            " IMG-20170503-WA0012.jpg\n",
            " IMG-20170503-WA0013.jpg\n",
            " IMG-20170503-WA0014.jpg\n",
            " IMG-20170503-WA0015.jpg\n",
            " IMG-20170503-WA0016.jpg\n",
            " IMG-20170503-WA0017.jpg\n",
            " IMG-20170503-WA0018.jpg\n",
            " IMG-20170503-WA0019.jpg\n",
            " IMG-20170503-WA0020.jpg\n",
            " IMG-20170503-WA0021.jpg\n",
            " IMG-20170503-WA0022.jpg\n",
            " IMG-20170503-WA0023.jpg\n",
            " IMG-20170503-WA0024.jpg\n",
            " IMG-20170503-WA0025.jpg\n",
            " IMG-20170503-WA0026.jpg\n",
            " IMG-20170503-WA0027.jpg\n",
            " IMG-20170503-WA0028.jpg\n",
            " IMG-20170503-WA0029.jpg\n",
            " IMG-20170503-WA0030.jpg\n",
            " IMG-20170503-WA0031.jpg\n",
            " IMG-20170503-WA0032.jpg\n",
            " IMG-20170503-WA0033.jpg\n",
            " IMG-20170503-WA0034.jpg\n",
            " IMG-20170503-WA0035.jpg\n",
            " IMG-20170503-WA0036.jpg\n",
            " IMG-20170503-WA0037.jpg\n",
            " IMG-20170503-WA0038.jpg\n",
            " IMG-20170503-WA0039.jpg\n",
            " IMG-20170503-WA0040.jpg\n",
            " IMG-20170503-WA0041.jpg\n",
            " IMG-20170504-WA0005.jpg\n",
            " IMG-20170504-WA0006.jpg\n",
            " IMG-20170504-WA0009.jpg\n",
            "'IMG-20170504-WA0028 (1).jpg'\n",
            " IMG-20170504-WA0028.jpg\n",
            " IMG_20180615_192558.jpg\n",
            " IMG_20180617_115354.jpg\n",
            " IMG_20180617_190505.jpg\n",
            " IMG_20180617_190508.jpg\n",
            " IMG_20180617_190524.jpg\n",
            " IMG_20180617_190528.jpg\n",
            " IMG_20180617_190534.jpg\n",
            " IMG-20190919-WA0013.jpg\n",
            " IMG-20190919-WA0014.jpg\n",
            " IMG-20190919-WA0016.jpg\n",
            " IMG-20190919-WA0020.jpg\n",
            "'KMSAuto Net.rar'\n",
            "'MAGATTE THIAM integration.docx'\n",
            " NCheck_Bio_Attendance_4_5_Trial_Windows_2018-11-07.zip\n",
            "'Photos '\n",
            " PicsArt_06-20-05.28.02.png\n",
            "'SD 20180615_042417 (1).jpg'\n",
            "'SD 20180615_042417.jpg'\n",
            "'Thiam Ibrahima-IA-Notes.gsheet'\n"
          ],
          "name": "stdout"
        }
      ]
    },
    {
      "cell_type": "code",
      "metadata": {
        "id": "H-PK8qErtqvV",
        "colab_type": "code",
        "colab": {}
      },
      "source": [
        "# In this case, data is stored in the directory described below\n",
        "# Change the directory based on YOUR own Google Drive organization\n",
        "df = pd.read_csv('/content/drive/My Drive/IA/titanic-train.csv') #pd.read_csv() -> Read the data from specified location and stores in dataframe 'df'"
      ],
      "execution_count": null,
      "outputs": []
    },
    {
      "cell_type": "code",
      "metadata": {
        "id": "9hJHwSxH0oA7",
        "colab_type": "code",
        "colab": {
          "base_uri": "https://localhost:8080/",
          "height": 34
        },
        "outputId": "8744e4b9-6a43-43cc-9a64-d2c165e77c92"
      },
      "source": [
        "type(df) # Type is used to check the type of a variable. In this case, df is a DataFrame."
      ],
      "execution_count": null,
      "outputs": [
        {
          "output_type": "execute_result",
          "data": {
            "text/plain": [
              "pandas.core.frame.DataFrame"
            ]
          },
          "metadata": {
            "tags": []
          },
          "execution_count": 6
        }
      ]
    },
    {
      "cell_type": "code",
      "metadata": {
        "id": "1HtINF5q08Ai",
        "colab_type": "code",
        "colab": {
          "base_uri": "https://localhost:8080/",
          "height": 255
        },
        "outputId": "03cba984-690e-4368-9969-be03f1abd4b2"
      },
      "source": [
        "df.head() # Displaying the header which by default is the first 5 lines of the data."
      ],
      "execution_count": null,
      "outputs": [
        {
          "output_type": "execute_result",
          "data": {
            "text/html": [
              "<div>\n",
              "<style scoped>\n",
              "    .dataframe tbody tr th:only-of-type {\n",
              "        vertical-align: middle;\n",
              "    }\n",
              "\n",
              "    .dataframe tbody tr th {\n",
              "        vertical-align: top;\n",
              "    }\n",
              "\n",
              "    .dataframe thead th {\n",
              "        text-align: right;\n",
              "    }\n",
              "</style>\n",
              "<table border=\"1\" class=\"dataframe\">\n",
              "  <thead>\n",
              "    <tr style=\"text-align: right;\">\n",
              "      <th></th>\n",
              "      <th>PassengerId</th>\n",
              "      <th>Survived</th>\n",
              "      <th>Pclass</th>\n",
              "      <th>Name</th>\n",
              "      <th>Sex</th>\n",
              "      <th>Age</th>\n",
              "      <th>SibSp</th>\n",
              "      <th>Parch</th>\n",
              "      <th>Ticket</th>\n",
              "      <th>Fare</th>\n",
              "      <th>Cabin</th>\n",
              "      <th>Embarked</th>\n",
              "    </tr>\n",
              "  </thead>\n",
              "  <tbody>\n",
              "    <tr>\n",
              "      <th>0</th>\n",
              "      <td>1</td>\n",
              "      <td>0</td>\n",
              "      <td>3</td>\n",
              "      <td>Braund, Mr. Owen Harris</td>\n",
              "      <td>male</td>\n",
              "      <td>22.0</td>\n",
              "      <td>1</td>\n",
              "      <td>0</td>\n",
              "      <td>A/5 21171</td>\n",
              "      <td>7.2500</td>\n",
              "      <td>NaN</td>\n",
              "      <td>S</td>\n",
              "    </tr>\n",
              "    <tr>\n",
              "      <th>1</th>\n",
              "      <td>2</td>\n",
              "      <td>1</td>\n",
              "      <td>1</td>\n",
              "      <td>Cumings, Mrs. John Bradley (Florence Briggs Th...</td>\n",
              "      <td>female</td>\n",
              "      <td>38.0</td>\n",
              "      <td>1</td>\n",
              "      <td>0</td>\n",
              "      <td>PC 17599</td>\n",
              "      <td>71.2833</td>\n",
              "      <td>C85</td>\n",
              "      <td>C</td>\n",
              "    </tr>\n",
              "    <tr>\n",
              "      <th>2</th>\n",
              "      <td>3</td>\n",
              "      <td>1</td>\n",
              "      <td>3</td>\n",
              "      <td>Heikkinen, Miss. Laina</td>\n",
              "      <td>female</td>\n",
              "      <td>26.0</td>\n",
              "      <td>0</td>\n",
              "      <td>0</td>\n",
              "      <td>STON/O2. 3101282</td>\n",
              "      <td>7.9250</td>\n",
              "      <td>NaN</td>\n",
              "      <td>S</td>\n",
              "    </tr>\n",
              "    <tr>\n",
              "      <th>3</th>\n",
              "      <td>4</td>\n",
              "      <td>1</td>\n",
              "      <td>1</td>\n",
              "      <td>Futrelle, Mrs. Jacques Heath (Lily May Peel)</td>\n",
              "      <td>female</td>\n",
              "      <td>35.0</td>\n",
              "      <td>1</td>\n",
              "      <td>0</td>\n",
              "      <td>113803</td>\n",
              "      <td>53.1000</td>\n",
              "      <td>C123</td>\n",
              "      <td>S</td>\n",
              "    </tr>\n",
              "    <tr>\n",
              "      <th>4</th>\n",
              "      <td>5</td>\n",
              "      <td>0</td>\n",
              "      <td>3</td>\n",
              "      <td>Allen, Mr. William Henry</td>\n",
              "      <td>male</td>\n",
              "      <td>35.0</td>\n",
              "      <td>0</td>\n",
              "      <td>0</td>\n",
              "      <td>373450</td>\n",
              "      <td>8.0500</td>\n",
              "      <td>NaN</td>\n",
              "      <td>S</td>\n",
              "    </tr>\n",
              "  </tbody>\n",
              "</table>\n",
              "</div>"
            ],
            "text/plain": [
              "   PassengerId  Survived  Pclass  ...     Fare Cabin  Embarked\n",
              "0            1         0       3  ...   7.2500   NaN         S\n",
              "1            2         1       1  ...  71.2833   C85         C\n",
              "2            3         1       3  ...   7.9250   NaN         S\n",
              "3            4         1       1  ...  53.1000  C123         S\n",
              "4            5         0       3  ...   8.0500   NaN         S\n",
              "\n",
              "[5 rows x 12 columns]"
            ]
          },
          "metadata": {
            "tags": []
          },
          "execution_count": 7
        }
      ]
    },
    {
      "cell_type": "code",
      "metadata": {
        "id": "zj5_yKyo1G86",
        "colab_type": "code",
        "colab": {
          "base_uri": "https://localhost:8080/",
          "height": 340
        },
        "outputId": "234b98ae-9cfb-4474-fa11-66d306eba686"
      },
      "source": [
        "df.info() \n",
        "# Gives information about the Data Frame. This is a summary of the data containing the total number of rows and columns and their types. \n",
        "# We can also detect if there are missing data.\n",
        "# object are string data\n",
        "# Example in 'Age' the total number of rows data is 714 which means that there are missing records as the total number of entries are 891."
      ],
      "execution_count": null,
      "outputs": [
        {
          "output_type": "stream",
          "text": [
            "<class 'pandas.core.frame.DataFrame'>\n",
            "RangeIndex: 891 entries, 0 to 890\n",
            "Data columns (total 12 columns):\n",
            " #   Column       Non-Null Count  Dtype  \n",
            "---  ------       --------------  -----  \n",
            " 0   PassengerId  891 non-null    int64  \n",
            " 1   Survived     891 non-null    int64  \n",
            " 2   Pclass       891 non-null    int64  \n",
            " 3   Name         891 non-null    object \n",
            " 4   Sex          891 non-null    object \n",
            " 5   Age          714 non-null    float64\n",
            " 6   SibSp        891 non-null    int64  \n",
            " 7   Parch        891 non-null    int64  \n",
            " 8   Ticket       891 non-null    object \n",
            " 9   Fare         891 non-null    float64\n",
            " 10  Cabin        204 non-null    object \n",
            " 11  Embarked     889 non-null    object \n",
            "dtypes: float64(2), int64(5), object(5)\n",
            "memory usage: 83.7+ KB\n"
          ],
          "name": "stdout"
        }
      ]
    },
    {
      "cell_type": "code",
      "metadata": {
        "id": "Lmd_nw_X1VBv",
        "colab_type": "code",
        "colab": {
          "base_uri": "https://localhost:8080/",
          "height": 297
        },
        "outputId": "56b7d113-4561-4c14-a002-7133be9f96c5"
      },
      "source": [
        "df.describe() # Statistical summary of numeric data - minmum, maximum, std, mean etc. "
      ],
      "execution_count": null,
      "outputs": [
        {
          "output_type": "execute_result",
          "data": {
            "text/html": [
              "<div>\n",
              "<style scoped>\n",
              "    .dataframe tbody tr th:only-of-type {\n",
              "        vertical-align: middle;\n",
              "    }\n",
              "\n",
              "    .dataframe tbody tr th {\n",
              "        vertical-align: top;\n",
              "    }\n",
              "\n",
              "    .dataframe thead th {\n",
              "        text-align: right;\n",
              "    }\n",
              "</style>\n",
              "<table border=\"1\" class=\"dataframe\">\n",
              "  <thead>\n",
              "    <tr style=\"text-align: right;\">\n",
              "      <th></th>\n",
              "      <th>PassengerId</th>\n",
              "      <th>Survived</th>\n",
              "      <th>Pclass</th>\n",
              "      <th>Age</th>\n",
              "      <th>SibSp</th>\n",
              "      <th>Parch</th>\n",
              "      <th>Fare</th>\n",
              "    </tr>\n",
              "  </thead>\n",
              "  <tbody>\n",
              "    <tr>\n",
              "      <th>count</th>\n",
              "      <td>891.000000</td>\n",
              "      <td>891.000000</td>\n",
              "      <td>891.000000</td>\n",
              "      <td>714.000000</td>\n",
              "      <td>891.000000</td>\n",
              "      <td>891.000000</td>\n",
              "      <td>891.000000</td>\n",
              "    </tr>\n",
              "    <tr>\n",
              "      <th>mean</th>\n",
              "      <td>446.000000</td>\n",
              "      <td>0.383838</td>\n",
              "      <td>2.308642</td>\n",
              "      <td>29.699118</td>\n",
              "      <td>0.523008</td>\n",
              "      <td>0.381594</td>\n",
              "      <td>32.204208</td>\n",
              "    </tr>\n",
              "    <tr>\n",
              "      <th>std</th>\n",
              "      <td>257.353842</td>\n",
              "      <td>0.486592</td>\n",
              "      <td>0.836071</td>\n",
              "      <td>14.526497</td>\n",
              "      <td>1.102743</td>\n",
              "      <td>0.806057</td>\n",
              "      <td>49.693429</td>\n",
              "    </tr>\n",
              "    <tr>\n",
              "      <th>min</th>\n",
              "      <td>1.000000</td>\n",
              "      <td>0.000000</td>\n",
              "      <td>1.000000</td>\n",
              "      <td>0.420000</td>\n",
              "      <td>0.000000</td>\n",
              "      <td>0.000000</td>\n",
              "      <td>0.000000</td>\n",
              "    </tr>\n",
              "    <tr>\n",
              "      <th>25%</th>\n",
              "      <td>223.500000</td>\n",
              "      <td>0.000000</td>\n",
              "      <td>2.000000</td>\n",
              "      <td>20.125000</td>\n",
              "      <td>0.000000</td>\n",
              "      <td>0.000000</td>\n",
              "      <td>7.910400</td>\n",
              "    </tr>\n",
              "    <tr>\n",
              "      <th>50%</th>\n",
              "      <td>446.000000</td>\n",
              "      <td>0.000000</td>\n",
              "      <td>3.000000</td>\n",
              "      <td>28.000000</td>\n",
              "      <td>0.000000</td>\n",
              "      <td>0.000000</td>\n",
              "      <td>14.454200</td>\n",
              "    </tr>\n",
              "    <tr>\n",
              "      <th>75%</th>\n",
              "      <td>668.500000</td>\n",
              "      <td>1.000000</td>\n",
              "      <td>3.000000</td>\n",
              "      <td>38.000000</td>\n",
              "      <td>1.000000</td>\n",
              "      <td>0.000000</td>\n",
              "      <td>31.000000</td>\n",
              "    </tr>\n",
              "    <tr>\n",
              "      <th>max</th>\n",
              "      <td>891.000000</td>\n",
              "      <td>1.000000</td>\n",
              "      <td>3.000000</td>\n",
              "      <td>80.000000</td>\n",
              "      <td>8.000000</td>\n",
              "      <td>6.000000</td>\n",
              "      <td>512.329200</td>\n",
              "    </tr>\n",
              "  </tbody>\n",
              "</table>\n",
              "</div>"
            ],
            "text/plain": [
              "       PassengerId    Survived      Pclass  ...       SibSp       Parch        Fare\n",
              "count   891.000000  891.000000  891.000000  ...  891.000000  891.000000  891.000000\n",
              "mean    446.000000    0.383838    2.308642  ...    0.523008    0.381594   32.204208\n",
              "std     257.353842    0.486592    0.836071  ...    1.102743    0.806057   49.693429\n",
              "min       1.000000    0.000000    1.000000  ...    0.000000    0.000000    0.000000\n",
              "25%     223.500000    0.000000    2.000000  ...    0.000000    0.000000    7.910400\n",
              "50%     446.000000    0.000000    3.000000  ...    0.000000    0.000000   14.454200\n",
              "75%     668.500000    1.000000    3.000000  ...    1.000000    0.000000   31.000000\n",
              "max     891.000000    1.000000    3.000000  ...    8.000000    6.000000  512.329200\n",
              "\n",
              "[8 rows x 7 columns]"
            ]
          },
          "metadata": {
            "tags": []
          },
          "execution_count": 9
        }
      ]
    },
    {
      "cell_type": "markdown",
      "metadata": {
        "id": "OJULOKZJ1cjo",
        "colab_type": "text"
      },
      "source": [
        "###Indexing\n",
        "Pandas allows to index data in various ways."
      ]
    },
    {
      "cell_type": "code",
      "metadata": {
        "id": "gYlO2LD61ZSO",
        "colab_type": "code",
        "colab": {
          "base_uri": "https://localhost:8080/",
          "height": 238
        },
        "outputId": "bc9d1d35-63cc-4b44-974b-ecedf452b8a9"
      },
      "source": [
        "df.iloc[3] # To retrieve the records based on the index. The index starts with 0 in Python. Here we get the data in the 4th row."
      ],
      "execution_count": null,
      "outputs": [
        {
          "output_type": "execute_result",
          "data": {
            "text/plain": [
              "PassengerId                                               4\n",
              "Survived                                                  1\n",
              "Pclass                                                    1\n",
              "Name           Futrelle, Mrs. Jacques Heath (Lily May Peel)\n",
              "Sex                                                  female\n",
              "Age                                                      35\n",
              "SibSp                                                     1\n",
              "Parch                                                     0\n",
              "Ticket                                               113803\n",
              "Fare                                                   53.1\n",
              "Cabin                                                  C123\n",
              "Embarked                                                  S\n",
              "Name: 3, dtype: object"
            ]
          },
          "metadata": {
            "tags": []
          },
          "execution_count": 10
        }
      ]
    },
    {
      "cell_type": "code",
      "metadata": {
        "id": "j9vuC9QS1rod",
        "colab_type": "code",
        "colab": {
          "base_uri": "https://localhost:8080/",
          "height": 119
        },
        "outputId": "dcbba6c0-65f7-4a95-b0ec-6e1dce50088e"
      },
      "source": [
        "df.loc[0:4,'Ticket'] # To retreive the data for one coloumn and several rows.\n",
        "                     # Here we get the Ticket colum of the first 5 rows."
      ],
      "execution_count": null,
      "outputs": [
        {
          "output_type": "execute_result",
          "data": {
            "text/plain": [
              "0           A/5 21171\n",
              "1            PC 17599\n",
              "2    STON/O2. 3101282\n",
              "3              113803\n",
              "4              373450\n",
              "Name: Ticket, dtype: object"
            ]
          },
          "metadata": {
            "tags": []
          },
          "execution_count": 11
        }
      ]
    },
    {
      "cell_type": "code",
      "metadata": {
        "id": "r7djPK8A1wds",
        "colab_type": "code",
        "colab": {
          "base_uri": "https://localhost:8080/",
          "height": 119
        },
        "outputId": "99ae62b5-fa93-4411-8b54-8b4be0211eb8"
      },
      "source": [
        "df['Ticket'].head() # You can get first five rows of the colum Ticket with the help of head() function as well."
      ],
      "execution_count": null,
      "outputs": [
        {
          "output_type": "execute_result",
          "data": {
            "text/plain": [
              "0           A/5 21171\n",
              "1            PC 17599\n",
              "2    STON/O2. 3101282\n",
              "3              113803\n",
              "4              373450\n",
              "Name: Ticket, dtype: object"
            ]
          },
          "metadata": {
            "tags": []
          },
          "execution_count": 12
        }
      ]
    },
    {
      "cell_type": "code",
      "metadata": {
        "id": "BHHb9u6B1GjO",
        "colab_type": "code",
        "colab": {
          "base_uri": "https://localhost:8080/",
          "height": 34
        },
        "outputId": "e87c4d55-9907-48e6-fd24-dce6f126fa33"
      },
      "source": [
        "type(df[['Embarked', 'Ticket']]) # It is useful to check the types of expressions before using them."
      ],
      "execution_count": null,
      "outputs": [
        {
          "output_type": "execute_result",
          "data": {
            "text/plain": [
              "pandas.core.frame.DataFrame"
            ]
          },
          "metadata": {
            "tags": []
          },
          "execution_count": 13
        }
      ]
    },
    {
      "cell_type": "code",
      "metadata": {
        "id": "X6OLJzwy1zgi",
        "colab_type": "code",
        "colab": {
          "base_uri": "https://localhost:8080/",
          "height": 204
        },
        "outputId": "bd924aa7-b1b0-4ea5-ef8e-eb5d8912fef6"
      },
      "source": [
        "df[['Embarked', 'Ticket']].head() # You can get multiple coloumn data by providing the list as parameter. \n",
        "                                  #Here you get data of the 'Embarked' and 'Tickets' columns"
      ],
      "execution_count": null,
      "outputs": [
        {
          "output_type": "execute_result",
          "data": {
            "text/html": [
              "<div>\n",
              "<style scoped>\n",
              "    .dataframe tbody tr th:only-of-type {\n",
              "        vertical-align: middle;\n",
              "    }\n",
              "\n",
              "    .dataframe tbody tr th {\n",
              "        vertical-align: top;\n",
              "    }\n",
              "\n",
              "    .dataframe thead th {\n",
              "        text-align: right;\n",
              "    }\n",
              "</style>\n",
              "<table border=\"1\" class=\"dataframe\">\n",
              "  <thead>\n",
              "    <tr style=\"text-align: right;\">\n",
              "      <th></th>\n",
              "      <th>Embarked</th>\n",
              "      <th>Ticket</th>\n",
              "    </tr>\n",
              "  </thead>\n",
              "  <tbody>\n",
              "    <tr>\n",
              "      <th>0</th>\n",
              "      <td>S</td>\n",
              "      <td>A/5 21171</td>\n",
              "    </tr>\n",
              "    <tr>\n",
              "      <th>1</th>\n",
              "      <td>C</td>\n",
              "      <td>PC 17599</td>\n",
              "    </tr>\n",
              "    <tr>\n",
              "      <th>2</th>\n",
              "      <td>S</td>\n",
              "      <td>STON/O2. 3101282</td>\n",
              "    </tr>\n",
              "    <tr>\n",
              "      <th>3</th>\n",
              "      <td>S</td>\n",
              "      <td>113803</td>\n",
              "    </tr>\n",
              "    <tr>\n",
              "      <th>4</th>\n",
              "      <td>S</td>\n",
              "      <td>373450</td>\n",
              "    </tr>\n",
              "  </tbody>\n",
              "</table>\n",
              "</div>"
            ],
            "text/plain": [
              "  Embarked            Ticket\n",
              "0        S         A/5 21171\n",
              "1        C          PC 17599\n",
              "2        S  STON/O2. 3101282\n",
              "3        S            113803\n",
              "4        S            373450"
            ]
          },
          "metadata": {
            "tags": []
          },
          "execution_count": 14
        }
      ]
    },
    {
      "cell_type": "markdown",
      "metadata": {
        "id": "NUNe9OrL13BM",
        "colab_type": "text"
      },
      "source": [
        "###Selections\n",
        "Pandas allows to perform different selections."
      ]
    },
    {
      "cell_type": "code",
      "metadata": {
        "id": "iRdLzUc_119A",
        "colab_type": "code",
        "colab": {
          "base_uri": "https://localhost:8080/",
          "height": 399
        },
        "outputId": "4561c05c-fe01-479a-e7b8-4dbb8cfe4114"
      },
      "source": [
        "df[df['Age'] > 65] # We can get the data of passengers whose age is above 65. To get the details information \n",
        "                   # We pass the condition to the DataFrame in square brackets. \n",
        "                   # Otherwise, you will get a list of values which says if the condition is true or false."
      ],
      "execution_count": null,
      "outputs": [
        {
          "output_type": "execute_result",
          "data": {
            "text/html": [
              "<div>\n",
              "<style scoped>\n",
              "    .dataframe tbody tr th:only-of-type {\n",
              "        vertical-align: middle;\n",
              "    }\n",
              "\n",
              "    .dataframe tbody tr th {\n",
              "        vertical-align: top;\n",
              "    }\n",
              "\n",
              "    .dataframe thead th {\n",
              "        text-align: right;\n",
              "    }\n",
              "</style>\n",
              "<table border=\"1\" class=\"dataframe\">\n",
              "  <thead>\n",
              "    <tr style=\"text-align: right;\">\n",
              "      <th></th>\n",
              "      <th>PassengerId</th>\n",
              "      <th>Survived</th>\n",
              "      <th>Pclass</th>\n",
              "      <th>Name</th>\n",
              "      <th>Sex</th>\n",
              "      <th>Age</th>\n",
              "      <th>SibSp</th>\n",
              "      <th>Parch</th>\n",
              "      <th>Ticket</th>\n",
              "      <th>Fare</th>\n",
              "      <th>Cabin</th>\n",
              "      <th>Embarked</th>\n",
              "    </tr>\n",
              "  </thead>\n",
              "  <tbody>\n",
              "    <tr>\n",
              "      <th>33</th>\n",
              "      <td>34</td>\n",
              "      <td>0</td>\n",
              "      <td>2</td>\n",
              "      <td>Wheadon, Mr. Edward H</td>\n",
              "      <td>male</td>\n",
              "      <td>66.0</td>\n",
              "      <td>0</td>\n",
              "      <td>0</td>\n",
              "      <td>C.A. 24579</td>\n",
              "      <td>10.5000</td>\n",
              "      <td>NaN</td>\n",
              "      <td>S</td>\n",
              "    </tr>\n",
              "    <tr>\n",
              "      <th>96</th>\n",
              "      <td>97</td>\n",
              "      <td>0</td>\n",
              "      <td>1</td>\n",
              "      <td>Goldschmidt, Mr. George B</td>\n",
              "      <td>male</td>\n",
              "      <td>71.0</td>\n",
              "      <td>0</td>\n",
              "      <td>0</td>\n",
              "      <td>PC 17754</td>\n",
              "      <td>34.6542</td>\n",
              "      <td>A5</td>\n",
              "      <td>C</td>\n",
              "    </tr>\n",
              "    <tr>\n",
              "      <th>116</th>\n",
              "      <td>117</td>\n",
              "      <td>0</td>\n",
              "      <td>3</td>\n",
              "      <td>Connors, Mr. Patrick</td>\n",
              "      <td>male</td>\n",
              "      <td>70.5</td>\n",
              "      <td>0</td>\n",
              "      <td>0</td>\n",
              "      <td>370369</td>\n",
              "      <td>7.7500</td>\n",
              "      <td>NaN</td>\n",
              "      <td>Q</td>\n",
              "    </tr>\n",
              "    <tr>\n",
              "      <th>493</th>\n",
              "      <td>494</td>\n",
              "      <td>0</td>\n",
              "      <td>1</td>\n",
              "      <td>Artagaveytia, Mr. Ramon</td>\n",
              "      <td>male</td>\n",
              "      <td>71.0</td>\n",
              "      <td>0</td>\n",
              "      <td>0</td>\n",
              "      <td>PC 17609</td>\n",
              "      <td>49.5042</td>\n",
              "      <td>NaN</td>\n",
              "      <td>C</td>\n",
              "    </tr>\n",
              "    <tr>\n",
              "      <th>630</th>\n",
              "      <td>631</td>\n",
              "      <td>1</td>\n",
              "      <td>1</td>\n",
              "      <td>Barkworth, Mr. Algernon Henry Wilson</td>\n",
              "      <td>male</td>\n",
              "      <td>80.0</td>\n",
              "      <td>0</td>\n",
              "      <td>0</td>\n",
              "      <td>27042</td>\n",
              "      <td>30.0000</td>\n",
              "      <td>A23</td>\n",
              "      <td>S</td>\n",
              "    </tr>\n",
              "    <tr>\n",
              "      <th>672</th>\n",
              "      <td>673</td>\n",
              "      <td>0</td>\n",
              "      <td>2</td>\n",
              "      <td>Mitchell, Mr. Henry Michael</td>\n",
              "      <td>male</td>\n",
              "      <td>70.0</td>\n",
              "      <td>0</td>\n",
              "      <td>0</td>\n",
              "      <td>C.A. 24580</td>\n",
              "      <td>10.5000</td>\n",
              "      <td>NaN</td>\n",
              "      <td>S</td>\n",
              "    </tr>\n",
              "    <tr>\n",
              "      <th>745</th>\n",
              "      <td>746</td>\n",
              "      <td>0</td>\n",
              "      <td>1</td>\n",
              "      <td>Crosby, Capt. Edward Gifford</td>\n",
              "      <td>male</td>\n",
              "      <td>70.0</td>\n",
              "      <td>1</td>\n",
              "      <td>1</td>\n",
              "      <td>WE/P 5735</td>\n",
              "      <td>71.0000</td>\n",
              "      <td>B22</td>\n",
              "      <td>S</td>\n",
              "    </tr>\n",
              "    <tr>\n",
              "      <th>851</th>\n",
              "      <td>852</td>\n",
              "      <td>0</td>\n",
              "      <td>3</td>\n",
              "      <td>Svensson, Mr. Johan</td>\n",
              "      <td>male</td>\n",
              "      <td>74.0</td>\n",
              "      <td>0</td>\n",
              "      <td>0</td>\n",
              "      <td>347060</td>\n",
              "      <td>7.7750</td>\n",
              "      <td>NaN</td>\n",
              "      <td>S</td>\n",
              "    </tr>\n",
              "  </tbody>\n",
              "</table>\n",
              "</div>"
            ],
            "text/plain": [
              "     PassengerId  Survived  Pclass  ...     Fare Cabin  Embarked\n",
              "33            34         0       2  ...  10.5000   NaN         S\n",
              "96            97         0       1  ...  34.6542    A5         C\n",
              "116          117         0       3  ...   7.7500   NaN         Q\n",
              "493          494         0       1  ...  49.5042   NaN         C\n",
              "630          631         1       1  ...  30.0000   A23         S\n",
              "672          673         0       2  ...  10.5000   NaN         S\n",
              "745          746         0       1  ...  71.0000   B22         S\n",
              "851          852         0       3  ...   7.7750   NaN         S\n",
              "\n",
              "[8 rows x 12 columns]"
            ]
          },
          "metadata": {
            "tags": []
          },
          "execution_count": 15
        }
      ]
    },
    {
      "cell_type": "code",
      "metadata": {
        "id": "5_y6fOjj183Y",
        "colab_type": "code",
        "colab": {
          "base_uri": "https://localhost:8080/",
          "height": 221
        },
        "outputId": "d489bcf6-4ad2-459b-aa45-3b5efe663f21"
      },
      "source": [
        "df['Age'] > 65 # This statement displays if the condition is True or False."
      ],
      "execution_count": null,
      "outputs": [
        {
          "output_type": "execute_result",
          "data": {
            "text/plain": [
              "0      False\n",
              "1      False\n",
              "2      False\n",
              "3      False\n",
              "4      False\n",
              "       ...  \n",
              "886    False\n",
              "887    False\n",
              "888    False\n",
              "889    False\n",
              "890    False\n",
              "Name: Age, Length: 891, dtype: bool"
            ]
          },
          "metadata": {
            "tags": []
          },
          "execution_count": 16
        }
      ]
    },
    {
      "cell_type": "code",
      "metadata": {
        "id": "4kBLWHb82AGP",
        "colab_type": "code",
        "colab": {
          "base_uri": "https://localhost:8080/",
          "height": 399
        },
        "outputId": "162b6c29-014d-4c6c-9989-525e4479550b"
      },
      "source": [
        "df.query('Age > 65') # Query can also be used to select the data based on the condition passed as a string "
      ],
      "execution_count": null,
      "outputs": [
        {
          "output_type": "execute_result",
          "data": {
            "text/html": [
              "<div>\n",
              "<style scoped>\n",
              "    .dataframe tbody tr th:only-of-type {\n",
              "        vertical-align: middle;\n",
              "    }\n",
              "\n",
              "    .dataframe tbody tr th {\n",
              "        vertical-align: top;\n",
              "    }\n",
              "\n",
              "    .dataframe thead th {\n",
              "        text-align: right;\n",
              "    }\n",
              "</style>\n",
              "<table border=\"1\" class=\"dataframe\">\n",
              "  <thead>\n",
              "    <tr style=\"text-align: right;\">\n",
              "      <th></th>\n",
              "      <th>PassengerId</th>\n",
              "      <th>Survived</th>\n",
              "      <th>Pclass</th>\n",
              "      <th>Name</th>\n",
              "      <th>Sex</th>\n",
              "      <th>Age</th>\n",
              "      <th>SibSp</th>\n",
              "      <th>Parch</th>\n",
              "      <th>Ticket</th>\n",
              "      <th>Fare</th>\n",
              "      <th>Cabin</th>\n",
              "      <th>Embarked</th>\n",
              "    </tr>\n",
              "  </thead>\n",
              "  <tbody>\n",
              "    <tr>\n",
              "      <th>33</th>\n",
              "      <td>34</td>\n",
              "      <td>0</td>\n",
              "      <td>2</td>\n",
              "      <td>Wheadon, Mr. Edward H</td>\n",
              "      <td>male</td>\n",
              "      <td>66.0</td>\n",
              "      <td>0</td>\n",
              "      <td>0</td>\n",
              "      <td>C.A. 24579</td>\n",
              "      <td>10.5000</td>\n",
              "      <td>NaN</td>\n",
              "      <td>S</td>\n",
              "    </tr>\n",
              "    <tr>\n",
              "      <th>96</th>\n",
              "      <td>97</td>\n",
              "      <td>0</td>\n",
              "      <td>1</td>\n",
              "      <td>Goldschmidt, Mr. George B</td>\n",
              "      <td>male</td>\n",
              "      <td>71.0</td>\n",
              "      <td>0</td>\n",
              "      <td>0</td>\n",
              "      <td>PC 17754</td>\n",
              "      <td>34.6542</td>\n",
              "      <td>A5</td>\n",
              "      <td>C</td>\n",
              "    </tr>\n",
              "    <tr>\n",
              "      <th>116</th>\n",
              "      <td>117</td>\n",
              "      <td>0</td>\n",
              "      <td>3</td>\n",
              "      <td>Connors, Mr. Patrick</td>\n",
              "      <td>male</td>\n",
              "      <td>70.5</td>\n",
              "      <td>0</td>\n",
              "      <td>0</td>\n",
              "      <td>370369</td>\n",
              "      <td>7.7500</td>\n",
              "      <td>NaN</td>\n",
              "      <td>Q</td>\n",
              "    </tr>\n",
              "    <tr>\n",
              "      <th>493</th>\n",
              "      <td>494</td>\n",
              "      <td>0</td>\n",
              "      <td>1</td>\n",
              "      <td>Artagaveytia, Mr. Ramon</td>\n",
              "      <td>male</td>\n",
              "      <td>71.0</td>\n",
              "      <td>0</td>\n",
              "      <td>0</td>\n",
              "      <td>PC 17609</td>\n",
              "      <td>49.5042</td>\n",
              "      <td>NaN</td>\n",
              "      <td>C</td>\n",
              "    </tr>\n",
              "    <tr>\n",
              "      <th>630</th>\n",
              "      <td>631</td>\n",
              "      <td>1</td>\n",
              "      <td>1</td>\n",
              "      <td>Barkworth, Mr. Algernon Henry Wilson</td>\n",
              "      <td>male</td>\n",
              "      <td>80.0</td>\n",
              "      <td>0</td>\n",
              "      <td>0</td>\n",
              "      <td>27042</td>\n",
              "      <td>30.0000</td>\n",
              "      <td>A23</td>\n",
              "      <td>S</td>\n",
              "    </tr>\n",
              "    <tr>\n",
              "      <th>672</th>\n",
              "      <td>673</td>\n",
              "      <td>0</td>\n",
              "      <td>2</td>\n",
              "      <td>Mitchell, Mr. Henry Michael</td>\n",
              "      <td>male</td>\n",
              "      <td>70.0</td>\n",
              "      <td>0</td>\n",
              "      <td>0</td>\n",
              "      <td>C.A. 24580</td>\n",
              "      <td>10.5000</td>\n",
              "      <td>NaN</td>\n",
              "      <td>S</td>\n",
              "    </tr>\n",
              "    <tr>\n",
              "      <th>745</th>\n",
              "      <td>746</td>\n",
              "      <td>0</td>\n",
              "      <td>1</td>\n",
              "      <td>Crosby, Capt. Edward Gifford</td>\n",
              "      <td>male</td>\n",
              "      <td>70.0</td>\n",
              "      <td>1</td>\n",
              "      <td>1</td>\n",
              "      <td>WE/P 5735</td>\n",
              "      <td>71.0000</td>\n",
              "      <td>B22</td>\n",
              "      <td>S</td>\n",
              "    </tr>\n",
              "    <tr>\n",
              "      <th>851</th>\n",
              "      <td>852</td>\n",
              "      <td>0</td>\n",
              "      <td>3</td>\n",
              "      <td>Svensson, Mr. Johan</td>\n",
              "      <td>male</td>\n",
              "      <td>74.0</td>\n",
              "      <td>0</td>\n",
              "      <td>0</td>\n",
              "      <td>347060</td>\n",
              "      <td>7.7750</td>\n",
              "      <td>NaN</td>\n",
              "      <td>S</td>\n",
              "    </tr>\n",
              "  </tbody>\n",
              "</table>\n",
              "</div>"
            ],
            "text/plain": [
              "     PassengerId  Survived  Pclass  ...     Fare Cabin  Embarked\n",
              "33            34         0       2  ...  10.5000   NaN         S\n",
              "96            97         0       1  ...  34.6542    A5         C\n",
              "116          117         0       3  ...   7.7500   NaN         Q\n",
              "493          494         0       1  ...  49.5042   NaN         C\n",
              "630          631         1       1  ...  30.0000   A23         S\n",
              "672          673         0       2  ...  10.5000   NaN         S\n",
              "745          746         0       1  ...  71.0000   B22         S\n",
              "851          852         0       3  ...   7.7750   NaN         S\n",
              "\n",
              "[8 rows x 12 columns]"
            ]
          },
          "metadata": {
            "tags": []
          },
          "execution_count": 17
        }
      ]
    },
    {
      "cell_type": "code",
      "metadata": {
        "id": "VrFZFKz52A0L",
        "colab_type": "code",
        "colab": {
          "base_uri": "https://localhost:8080/",
          "height": 49
        },
        "outputId": "9f02068d-a22a-4577-86a2-ed45c82b9cdb"
      },
      "source": [
        "df[(df['Age'] == 10) & (df['SibSp'] == 5)]  # Conditions can be combined with Boolean operators like AND, OR, and NOT. \n",
        "                                            # In this example we have combined two conditions.\n",
        "                                            # Condition : Selection of passengers with 'Age' 10 AND 5 'siblings'. \n",
        "                                            # The condition is False so nothing is displayed."
      ],
      "execution_count": null,
      "outputs": [
        {
          "output_type": "execute_result",
          "data": {
            "text/html": [
              "<div>\n",
              "<style scoped>\n",
              "    .dataframe tbody tr th:only-of-type {\n",
              "        vertical-align: middle;\n",
              "    }\n",
              "\n",
              "    .dataframe tbody tr th {\n",
              "        vertical-align: top;\n",
              "    }\n",
              "\n",
              "    .dataframe thead th {\n",
              "        text-align: right;\n",
              "    }\n",
              "</style>\n",
              "<table border=\"1\" class=\"dataframe\">\n",
              "  <thead>\n",
              "    <tr style=\"text-align: right;\">\n",
              "      <th></th>\n",
              "      <th>PassengerId</th>\n",
              "      <th>Survived</th>\n",
              "      <th>Pclass</th>\n",
              "      <th>Name</th>\n",
              "      <th>Sex</th>\n",
              "      <th>Age</th>\n",
              "      <th>SibSp</th>\n",
              "      <th>Parch</th>\n",
              "      <th>Ticket</th>\n",
              "      <th>Fare</th>\n",
              "      <th>Cabin</th>\n",
              "      <th>Embarked</th>\n",
              "    </tr>\n",
              "  </thead>\n",
              "  <tbody>\n",
              "  </tbody>\n",
              "</table>\n",
              "</div>"
            ],
            "text/plain": [
              "Empty DataFrame\n",
              "Columns: [PassengerId, Survived, Pclass, Name, Sex, Age, SibSp, Parch, Ticket, Fare, Cabin, Embarked]\n",
              "Index: []"
            ]
          },
          "metadata": {
            "tags": []
          },
          "execution_count": 18
        }
      ]
    },
    {
      "cell_type": "code",
      "metadata": {
        "id": "gPgZ1FRt2DdB",
        "colab_type": "code",
        "colab": {
          "base_uri": "https://localhost:8080/",
          "height": 351
        },
        "outputId": "d001f094-b03f-437b-9a88-f1fab4e6a5fa"
      },
      "source": [
        "df[(df.Age == 10) | (df.SibSp == 5)]       # Here we are using OR."
      ],
      "execution_count": null,
      "outputs": [
        {
          "output_type": "execute_result",
          "data": {
            "text/html": [
              "<div>\n",
              "<style scoped>\n",
              "    .dataframe tbody tr th:only-of-type {\n",
              "        vertical-align: middle;\n",
              "    }\n",
              "\n",
              "    .dataframe tbody tr th {\n",
              "        vertical-align: top;\n",
              "    }\n",
              "\n",
              "    .dataframe thead th {\n",
              "        text-align: right;\n",
              "    }\n",
              "</style>\n",
              "<table border=\"1\" class=\"dataframe\">\n",
              "  <thead>\n",
              "    <tr style=\"text-align: right;\">\n",
              "      <th></th>\n",
              "      <th>PassengerId</th>\n",
              "      <th>Survived</th>\n",
              "      <th>Pclass</th>\n",
              "      <th>Name</th>\n",
              "      <th>Sex</th>\n",
              "      <th>Age</th>\n",
              "      <th>SibSp</th>\n",
              "      <th>Parch</th>\n",
              "      <th>Ticket</th>\n",
              "      <th>Fare</th>\n",
              "      <th>Cabin</th>\n",
              "      <th>Embarked</th>\n",
              "    </tr>\n",
              "  </thead>\n",
              "  <tbody>\n",
              "    <tr>\n",
              "      <th>59</th>\n",
              "      <td>60</td>\n",
              "      <td>0</td>\n",
              "      <td>3</td>\n",
              "      <td>Goodwin, Master. William Frederick</td>\n",
              "      <td>male</td>\n",
              "      <td>11.0</td>\n",
              "      <td>5</td>\n",
              "      <td>2</td>\n",
              "      <td>CA 2144</td>\n",
              "      <td>46.90</td>\n",
              "      <td>NaN</td>\n",
              "      <td>S</td>\n",
              "    </tr>\n",
              "    <tr>\n",
              "      <th>71</th>\n",
              "      <td>72</td>\n",
              "      <td>0</td>\n",
              "      <td>3</td>\n",
              "      <td>Goodwin, Miss. Lillian Amy</td>\n",
              "      <td>female</td>\n",
              "      <td>16.0</td>\n",
              "      <td>5</td>\n",
              "      <td>2</td>\n",
              "      <td>CA 2144</td>\n",
              "      <td>46.90</td>\n",
              "      <td>NaN</td>\n",
              "      <td>S</td>\n",
              "    </tr>\n",
              "    <tr>\n",
              "      <th>386</th>\n",
              "      <td>387</td>\n",
              "      <td>0</td>\n",
              "      <td>3</td>\n",
              "      <td>Goodwin, Master. Sidney Leonard</td>\n",
              "      <td>male</td>\n",
              "      <td>1.0</td>\n",
              "      <td>5</td>\n",
              "      <td>2</td>\n",
              "      <td>CA 2144</td>\n",
              "      <td>46.90</td>\n",
              "      <td>NaN</td>\n",
              "      <td>S</td>\n",
              "    </tr>\n",
              "    <tr>\n",
              "      <th>419</th>\n",
              "      <td>420</td>\n",
              "      <td>0</td>\n",
              "      <td>3</td>\n",
              "      <td>Van Impe, Miss. Catharina</td>\n",
              "      <td>female</td>\n",
              "      <td>10.0</td>\n",
              "      <td>0</td>\n",
              "      <td>2</td>\n",
              "      <td>345773</td>\n",
              "      <td>24.15</td>\n",
              "      <td>NaN</td>\n",
              "      <td>S</td>\n",
              "    </tr>\n",
              "    <tr>\n",
              "      <th>480</th>\n",
              "      <td>481</td>\n",
              "      <td>0</td>\n",
              "      <td>3</td>\n",
              "      <td>Goodwin, Master. Harold Victor</td>\n",
              "      <td>male</td>\n",
              "      <td>9.0</td>\n",
              "      <td>5</td>\n",
              "      <td>2</td>\n",
              "      <td>CA 2144</td>\n",
              "      <td>46.90</td>\n",
              "      <td>NaN</td>\n",
              "      <td>S</td>\n",
              "    </tr>\n",
              "    <tr>\n",
              "      <th>683</th>\n",
              "      <td>684</td>\n",
              "      <td>0</td>\n",
              "      <td>3</td>\n",
              "      <td>Goodwin, Mr. Charles Edward</td>\n",
              "      <td>male</td>\n",
              "      <td>14.0</td>\n",
              "      <td>5</td>\n",
              "      <td>2</td>\n",
              "      <td>CA 2144</td>\n",
              "      <td>46.90</td>\n",
              "      <td>NaN</td>\n",
              "      <td>S</td>\n",
              "    </tr>\n",
              "    <tr>\n",
              "      <th>819</th>\n",
              "      <td>820</td>\n",
              "      <td>0</td>\n",
              "      <td>3</td>\n",
              "      <td>Skoog, Master. Karl Thorsten</td>\n",
              "      <td>male</td>\n",
              "      <td>10.0</td>\n",
              "      <td>3</td>\n",
              "      <td>2</td>\n",
              "      <td>347088</td>\n",
              "      <td>27.90</td>\n",
              "      <td>NaN</td>\n",
              "      <td>S</td>\n",
              "    </tr>\n",
              "  </tbody>\n",
              "</table>\n",
              "</div>"
            ],
            "text/plain": [
              "     PassengerId  Survived  Pclass  ...   Fare Cabin  Embarked\n",
              "59            60         0       3  ...  46.90   NaN         S\n",
              "71            72         0       3  ...  46.90   NaN         S\n",
              "386          387         0       3  ...  46.90   NaN         S\n",
              "419          420         0       3  ...  24.15   NaN         S\n",
              "480          481         0       3  ...  46.90   NaN         S\n",
              "683          684         0       3  ...  46.90   NaN         S\n",
              "819          820         0       3  ...  27.90   NaN         S\n",
              "\n",
              "[7 rows x 12 columns]"
            ]
          },
          "metadata": {
            "tags": []
          },
          "execution_count": 19
        }
      ]
    },
    {
      "cell_type": "code",
      "metadata": {
        "id": "YHuSDiK62FMK",
        "colab_type": "code",
        "colab": {
          "base_uri": "https://localhost:8080/",
          "height": 351
        },
        "outputId": "585e6337-3afc-4359-b777-236b8224ea0a"
      },
      "source": [
        "df.query('(Age == 10) | (SibSp == 5)') # Similarly, we can use query. "
      ],
      "execution_count": null,
      "outputs": [
        {
          "output_type": "execute_result",
          "data": {
            "text/html": [
              "<div>\n",
              "<style scoped>\n",
              "    .dataframe tbody tr th:only-of-type {\n",
              "        vertical-align: middle;\n",
              "    }\n",
              "\n",
              "    .dataframe tbody tr th {\n",
              "        vertical-align: top;\n",
              "    }\n",
              "\n",
              "    .dataframe thead th {\n",
              "        text-align: right;\n",
              "    }\n",
              "</style>\n",
              "<table border=\"1\" class=\"dataframe\">\n",
              "  <thead>\n",
              "    <tr style=\"text-align: right;\">\n",
              "      <th></th>\n",
              "      <th>PassengerId</th>\n",
              "      <th>Survived</th>\n",
              "      <th>Pclass</th>\n",
              "      <th>Name</th>\n",
              "      <th>Sex</th>\n",
              "      <th>Age</th>\n",
              "      <th>SibSp</th>\n",
              "      <th>Parch</th>\n",
              "      <th>Ticket</th>\n",
              "      <th>Fare</th>\n",
              "      <th>Cabin</th>\n",
              "      <th>Embarked</th>\n",
              "    </tr>\n",
              "  </thead>\n",
              "  <tbody>\n",
              "    <tr>\n",
              "      <th>59</th>\n",
              "      <td>60</td>\n",
              "      <td>0</td>\n",
              "      <td>3</td>\n",
              "      <td>Goodwin, Master. William Frederick</td>\n",
              "      <td>male</td>\n",
              "      <td>11.0</td>\n",
              "      <td>5</td>\n",
              "      <td>2</td>\n",
              "      <td>CA 2144</td>\n",
              "      <td>46.90</td>\n",
              "      <td>NaN</td>\n",
              "      <td>S</td>\n",
              "    </tr>\n",
              "    <tr>\n",
              "      <th>71</th>\n",
              "      <td>72</td>\n",
              "      <td>0</td>\n",
              "      <td>3</td>\n",
              "      <td>Goodwin, Miss. Lillian Amy</td>\n",
              "      <td>female</td>\n",
              "      <td>16.0</td>\n",
              "      <td>5</td>\n",
              "      <td>2</td>\n",
              "      <td>CA 2144</td>\n",
              "      <td>46.90</td>\n",
              "      <td>NaN</td>\n",
              "      <td>S</td>\n",
              "    </tr>\n",
              "    <tr>\n",
              "      <th>386</th>\n",
              "      <td>387</td>\n",
              "      <td>0</td>\n",
              "      <td>3</td>\n",
              "      <td>Goodwin, Master. Sidney Leonard</td>\n",
              "      <td>male</td>\n",
              "      <td>1.0</td>\n",
              "      <td>5</td>\n",
              "      <td>2</td>\n",
              "      <td>CA 2144</td>\n",
              "      <td>46.90</td>\n",
              "      <td>NaN</td>\n",
              "      <td>S</td>\n",
              "    </tr>\n",
              "    <tr>\n",
              "      <th>419</th>\n",
              "      <td>420</td>\n",
              "      <td>0</td>\n",
              "      <td>3</td>\n",
              "      <td>Van Impe, Miss. Catharina</td>\n",
              "      <td>female</td>\n",
              "      <td>10.0</td>\n",
              "      <td>0</td>\n",
              "      <td>2</td>\n",
              "      <td>345773</td>\n",
              "      <td>24.15</td>\n",
              "      <td>NaN</td>\n",
              "      <td>S</td>\n",
              "    </tr>\n",
              "    <tr>\n",
              "      <th>480</th>\n",
              "      <td>481</td>\n",
              "      <td>0</td>\n",
              "      <td>3</td>\n",
              "      <td>Goodwin, Master. Harold Victor</td>\n",
              "      <td>male</td>\n",
              "      <td>9.0</td>\n",
              "      <td>5</td>\n",
              "      <td>2</td>\n",
              "      <td>CA 2144</td>\n",
              "      <td>46.90</td>\n",
              "      <td>NaN</td>\n",
              "      <td>S</td>\n",
              "    </tr>\n",
              "    <tr>\n",
              "      <th>683</th>\n",
              "      <td>684</td>\n",
              "      <td>0</td>\n",
              "      <td>3</td>\n",
              "      <td>Goodwin, Mr. Charles Edward</td>\n",
              "      <td>male</td>\n",
              "      <td>14.0</td>\n",
              "      <td>5</td>\n",
              "      <td>2</td>\n",
              "      <td>CA 2144</td>\n",
              "      <td>46.90</td>\n",
              "      <td>NaN</td>\n",
              "      <td>S</td>\n",
              "    </tr>\n",
              "    <tr>\n",
              "      <th>819</th>\n",
              "      <td>820</td>\n",
              "      <td>0</td>\n",
              "      <td>3</td>\n",
              "      <td>Skoog, Master. Karl Thorsten</td>\n",
              "      <td>male</td>\n",
              "      <td>10.0</td>\n",
              "      <td>3</td>\n",
              "      <td>2</td>\n",
              "      <td>347088</td>\n",
              "      <td>27.90</td>\n",
              "      <td>NaN</td>\n",
              "      <td>S</td>\n",
              "    </tr>\n",
              "  </tbody>\n",
              "</table>\n",
              "</div>"
            ],
            "text/plain": [
              "     PassengerId  Survived  Pclass  ...   Fare Cabin  Embarked\n",
              "59            60         0       3  ...  46.90   NaN         S\n",
              "71            72         0       3  ...  46.90   NaN         S\n",
              "386          387         0       3  ...  46.90   NaN         S\n",
              "419          420         0       3  ...  24.15   NaN         S\n",
              "480          481         0       3  ...  46.90   NaN         S\n",
              "683          684         0       3  ...  46.90   NaN         S\n",
              "819          820         0       3  ...  27.90   NaN         S\n",
              "\n",
              "[7 rows x 12 columns]"
            ]
          },
          "metadata": {
            "tags": []
          },
          "execution_count": 20
        }
      ]
    },
    {
      "cell_type": "markdown",
      "metadata": {
        "id": "jNdOQNzS2f7H",
        "colab_type": "text"
      },
      "source": [
        "###Unique Values"
      ]
    },
    {
      "cell_type": "code",
      "metadata": {
        "id": "7Dd4nlF02cB6",
        "colab_type": "code",
        "colab": {
          "base_uri": "https://localhost:8080/",
          "height": 34
        },
        "outputId": "e6625c9b-2679-4e81-ca52-26ea0ae283a6"
      },
      "source": [
        "df['Embarked'].unique() # We can get the unique values from a column."
      ],
      "execution_count": null,
      "outputs": [
        {
          "output_type": "execute_result",
          "data": {
            "text/plain": [
              "array(['S', 'C', 'Q', nan], dtype=object)"
            ]
          },
          "metadata": {
            "tags": []
          },
          "execution_count": 21
        }
      ]
    },
    {
      "cell_type": "markdown",
      "metadata": {
        "id": "0qA0Z2AN2mf0",
        "colab_type": "text"
      },
      "source": [
        "###Sorting"
      ]
    },
    {
      "cell_type": "code",
      "metadata": {
        "id": "ExKmWkJC2lHe",
        "colab_type": "code",
        "colab": {
          "base_uri": "https://localhost:8080/",
          "height": 255
        },
        "outputId": "b19bd458-11cd-4d7d-a8c3-74b069b7d382"
      },
      "source": [
        "df.sort_values('Age', ascending = False).head() # Sort the data in DataFrame either in ascending or descending order for a column."
      ],
      "execution_count": null,
      "outputs": [
        {
          "output_type": "execute_result",
          "data": {
            "text/html": [
              "<div>\n",
              "<style scoped>\n",
              "    .dataframe tbody tr th:only-of-type {\n",
              "        vertical-align: middle;\n",
              "    }\n",
              "\n",
              "    .dataframe tbody tr th {\n",
              "        vertical-align: top;\n",
              "    }\n",
              "\n",
              "    .dataframe thead th {\n",
              "        text-align: right;\n",
              "    }\n",
              "</style>\n",
              "<table border=\"1\" class=\"dataframe\">\n",
              "  <thead>\n",
              "    <tr style=\"text-align: right;\">\n",
              "      <th></th>\n",
              "      <th>PassengerId</th>\n",
              "      <th>Survived</th>\n",
              "      <th>Pclass</th>\n",
              "      <th>Name</th>\n",
              "      <th>Sex</th>\n",
              "      <th>Age</th>\n",
              "      <th>SibSp</th>\n",
              "      <th>Parch</th>\n",
              "      <th>Ticket</th>\n",
              "      <th>Fare</th>\n",
              "      <th>Cabin</th>\n",
              "      <th>Embarked</th>\n",
              "    </tr>\n",
              "  </thead>\n",
              "  <tbody>\n",
              "    <tr>\n",
              "      <th>630</th>\n",
              "      <td>631</td>\n",
              "      <td>1</td>\n",
              "      <td>1</td>\n",
              "      <td>Barkworth, Mr. Algernon Henry Wilson</td>\n",
              "      <td>male</td>\n",
              "      <td>80.0</td>\n",
              "      <td>0</td>\n",
              "      <td>0</td>\n",
              "      <td>27042</td>\n",
              "      <td>30.0000</td>\n",
              "      <td>A23</td>\n",
              "      <td>S</td>\n",
              "    </tr>\n",
              "    <tr>\n",
              "      <th>851</th>\n",
              "      <td>852</td>\n",
              "      <td>0</td>\n",
              "      <td>3</td>\n",
              "      <td>Svensson, Mr. Johan</td>\n",
              "      <td>male</td>\n",
              "      <td>74.0</td>\n",
              "      <td>0</td>\n",
              "      <td>0</td>\n",
              "      <td>347060</td>\n",
              "      <td>7.7750</td>\n",
              "      <td>NaN</td>\n",
              "      <td>S</td>\n",
              "    </tr>\n",
              "    <tr>\n",
              "      <th>493</th>\n",
              "      <td>494</td>\n",
              "      <td>0</td>\n",
              "      <td>1</td>\n",
              "      <td>Artagaveytia, Mr. Ramon</td>\n",
              "      <td>male</td>\n",
              "      <td>71.0</td>\n",
              "      <td>0</td>\n",
              "      <td>0</td>\n",
              "      <td>PC 17609</td>\n",
              "      <td>49.5042</td>\n",
              "      <td>NaN</td>\n",
              "      <td>C</td>\n",
              "    </tr>\n",
              "    <tr>\n",
              "      <th>96</th>\n",
              "      <td>97</td>\n",
              "      <td>0</td>\n",
              "      <td>1</td>\n",
              "      <td>Goldschmidt, Mr. George B</td>\n",
              "      <td>male</td>\n",
              "      <td>71.0</td>\n",
              "      <td>0</td>\n",
              "      <td>0</td>\n",
              "      <td>PC 17754</td>\n",
              "      <td>34.6542</td>\n",
              "      <td>A5</td>\n",
              "      <td>C</td>\n",
              "    </tr>\n",
              "    <tr>\n",
              "      <th>116</th>\n",
              "      <td>117</td>\n",
              "      <td>0</td>\n",
              "      <td>3</td>\n",
              "      <td>Connors, Mr. Patrick</td>\n",
              "      <td>male</td>\n",
              "      <td>70.5</td>\n",
              "      <td>0</td>\n",
              "      <td>0</td>\n",
              "      <td>370369</td>\n",
              "      <td>7.7500</td>\n",
              "      <td>NaN</td>\n",
              "      <td>Q</td>\n",
              "    </tr>\n",
              "  </tbody>\n",
              "</table>\n",
              "</div>"
            ],
            "text/plain": [
              "     PassengerId  Survived  Pclass  ...     Fare Cabin  Embarked\n",
              "630          631         1       1  ...  30.0000   A23         S\n",
              "851          852         0       3  ...   7.7750   NaN         S\n",
              "493          494         0       1  ...  49.5042   NaN         C\n",
              "96            97         0       1  ...  34.6542    A5         C\n",
              "116          117         0       3  ...   7.7500   NaN         Q\n",
              "\n",
              "[5 rows x 12 columns]"
            ]
          },
          "metadata": {
            "tags": []
          },
          "execution_count": 22
        }
      ]
    },
    {
      "cell_type": "markdown",
      "metadata": {
        "id": "FI04Vafc2ubd",
        "colab_type": "text"
      },
      "source": [
        "###Aggregations\n",
        "Like in SQL, Pandas allows you to do aggregations and group by."
      ]
    },
    {
      "cell_type": "code",
      "metadata": {
        "id": "OrghvuJk2stG",
        "colab_type": "code",
        "colab": {
          "base_uri": "https://localhost:8080/",
          "height": 68
        },
        "outputId": "dfb3ab77-79b2-41ac-933f-54d493d42d98"
      },
      "source": [
        "df['Survived'].value_counts() # You can aggregate the data to get the number of survivors. \n",
        "                              # '0's' and '1's' values in the Survived field determine if a person survived or not."
      ],
      "execution_count": null,
      "outputs": [
        {
          "output_type": "execute_result",
          "data": {
            "text/plain": [
              "0    549\n",
              "1    342\n",
              "Name: Survived, dtype: int64"
            ]
          },
          "metadata": {
            "tags": []
          },
          "execution_count": 23
        }
      ]
    },
    {
      "cell_type": "code",
      "metadata": {
        "id": "lrkwEBlb20V8",
        "colab_type": "code",
        "colab": {
          "base_uri": "https://localhost:8080/",
          "height": 85
        },
        "outputId": "4790bb5c-e763-49fe-a6a1-dbe941bb54e8"
      },
      "source": [
        "df['Pclass'].value_counts() # Number of people per class"
      ],
      "execution_count": null,
      "outputs": [
        {
          "output_type": "execute_result",
          "data": {
            "text/plain": [
              "3    491\n",
              "1    216\n",
              "2    184\n",
              "Name: Pclass, dtype: int64"
            ]
          },
          "metadata": {
            "tags": []
          },
          "execution_count": 24
        }
      ]
    },
    {
      "cell_type": "code",
      "metadata": {
        "id": "KJ6KRLKz23YG",
        "colab_type": "code",
        "colab": {
          "base_uri": "https://localhost:8080/",
          "height": 153
        },
        "outputId": "7a63b055-1b30-4990-e22b-f1a4c0a32677"
      },
      "source": [
        "df.groupby(['Pclass', 'Survived'])['PassengerId'].count() # Number of survivors per class"
      ],
      "execution_count": null,
      "outputs": [
        {
          "output_type": "execute_result",
          "data": {
            "text/plain": [
              "Pclass  Survived\n",
              "1       0            80\n",
              "        1           136\n",
              "2       0            97\n",
              "        1            87\n",
              "3       0           372\n",
              "        1           119\n",
              "Name: PassengerId, dtype: int64"
            ]
          },
          "metadata": {
            "tags": []
          },
          "execution_count": 25
        }
      ]
    },
    {
      "cell_type": "code",
      "metadata": {
        "id": "hlmmH08W255V",
        "colab_type": "code",
        "colab": {
          "base_uri": "https://localhost:8080/",
          "height": 34
        },
        "outputId": "a5ba1d4f-2e2d-444a-e18c-684855fa42fa"
      },
      "source": [
        "df['Age'].min()"
      ],
      "execution_count": null,
      "outputs": [
        {
          "output_type": "execute_result",
          "data": {
            "text/plain": [
              "0.42"
            ]
          },
          "metadata": {
            "tags": []
          },
          "execution_count": 26
        }
      ]
    },
    {
      "cell_type": "code",
      "metadata": {
        "id": "PFbv9FfF27zO",
        "colab_type": "code",
        "colab": {
          "base_uri": "https://localhost:8080/",
          "height": 34
        },
        "outputId": "53ff5186-d017-4aac-febd-d7eb507e27cb"
      },
      "source": [
        "df['Age'].max()"
      ],
      "execution_count": null,
      "outputs": [
        {
          "output_type": "execute_result",
          "data": {
            "text/plain": [
              "80.0"
            ]
          },
          "metadata": {
            "tags": []
          },
          "execution_count": 27
        }
      ]
    },
    {
      "cell_type": "code",
      "metadata": {
        "id": "9vubZ41328U8",
        "colab_type": "code",
        "colab": {
          "base_uri": "https://localhost:8080/",
          "height": 34
        },
        "outputId": "336485bc-3f1d-4a3d-8fa6-a0aad0908f6c"
      },
      "source": [
        "df['Age'].mean()"
      ],
      "execution_count": null,
      "outputs": [
        {
          "output_type": "execute_result",
          "data": {
            "text/plain": [
              "29.69911764705882"
            ]
          },
          "metadata": {
            "tags": []
          },
          "execution_count": 28
        }
      ]
    },
    {
      "cell_type": "code",
      "metadata": {
        "id": "rqnrZxJf2_H-",
        "colab_type": "code",
        "colab": {
          "base_uri": "https://localhost:8080/",
          "height": 34
        },
        "outputId": "f7113a33-15b0-4a40-d46c-5074cd0260d7"
      },
      "source": [
        "df['Age'].median()"
      ],
      "execution_count": null,
      "outputs": [
        {
          "output_type": "execute_result",
          "data": {
            "text/plain": [
              "28.0"
            ]
          },
          "metadata": {
            "tags": []
          },
          "execution_count": 29
        }
      ]
    },
    {
      "cell_type": "code",
      "metadata": {
        "id": "L6ux7nxz6w8I",
        "colab_type": "code",
        "colab": {}
      },
      "source": [
        "# Information about the survivors"
      ],
      "execution_count": null,
      "outputs": []
    },
    {
      "cell_type": "code",
      "metadata": {
        "id": "Rzefyowr3Axe",
        "colab_type": "code",
        "colab": {
          "base_uri": "https://localhost:8080/",
          "height": 85
        },
        "outputId": "676e25c0-3401-42fe-8869-adb7f027a94c"
      },
      "source": [
        "mean_age_by_survived = df.groupby('Survived')['Age'].mean()\n",
        "mean_age_by_survived"
      ],
      "execution_count": null,
      "outputs": [
        {
          "output_type": "execute_result",
          "data": {
            "text/plain": [
              "Survived\n",
              "0    30.626179\n",
              "1    28.343690\n",
              "Name: Age, dtype: float64"
            ]
          },
          "metadata": {
            "tags": []
          },
          "execution_count": 31
        }
      ]
    },
    {
      "cell_type": "code",
      "metadata": {
        "id": "ETzfEIc23Dv2",
        "colab_type": "code",
        "colab": {
          "base_uri": "https://localhost:8080/",
          "height": 85
        },
        "outputId": "430a6a55-e985-40b8-a168-e11fcb045780"
      },
      "source": [
        "std_age_by_survived = df.groupby('Survived')['Age'].std()\n",
        "std_age_by_survived"
      ],
      "execution_count": null,
      "outputs": [
        {
          "output_type": "execute_result",
          "data": {
            "text/plain": [
              "Survived\n",
              "0    14.172110\n",
              "1    14.950952\n",
              "Name: Age, dtype: float64"
            ]
          },
          "metadata": {
            "tags": []
          },
          "execution_count": 32
        }
      ]
    },
    {
      "cell_type": "code",
      "metadata": {
        "id": "ocdhRjHw8f_a",
        "colab_type": "code",
        "colab": {
          "base_uri": "https://localhost:8080/",
          "height": 85
        },
        "outputId": "cfd3f97f-80bc-4b91-c133-c3eadf7194e5"
      },
      "source": [
        "min_age_by_survived = df.groupby('Survived')['Age'].min()\n",
        "min_age_by_survived"
      ],
      "execution_count": null,
      "outputs": [
        {
          "output_type": "execute_result",
          "data": {
            "text/plain": [
              "Survived\n",
              "0    1.00\n",
              "1    0.42\n",
              "Name: Age, dtype: float64"
            ]
          },
          "metadata": {
            "tags": []
          },
          "execution_count": 33
        }
      ]
    },
    {
      "cell_type": "code",
      "metadata": {
        "id": "QKNwh6c68oC8",
        "colab_type": "code",
        "colab": {
          "base_uri": "https://localhost:8080/",
          "height": 85
        },
        "outputId": "6faf5a9e-c6ce-47fb-a3b7-b85a0c67de52"
      },
      "source": [
        "max_age_by_survived = df.groupby('Survived')['Age'].max()\n",
        "max_age_by_survived"
      ],
      "execution_count": null,
      "outputs": [
        {
          "output_type": "execute_result",
          "data": {
            "text/plain": [
              "Survived\n",
              "0    74.0\n",
              "1    80.0\n",
              "Name: Age, dtype: float64"
            ]
          },
          "metadata": {
            "tags": []
          },
          "execution_count": 34
        }
      ]
    },
    {
      "cell_type": "markdown",
      "metadata": {
        "id": "EPHTo5cI3KSo",
        "colab_type": "text"
      },
      "source": [
        "###Merging Two Data Frames."
      ]
    },
    {
      "cell_type": "code",
      "metadata": {
        "id": "ncKKlEfG3LtL",
        "colab_type": "code",
        "colab": {}
      },
      "source": [
        "df1 = mean_age_by_survived.round(0).reset_index()\n",
        "df2 = std_age_by_survived.round(0).reset_index()"
      ],
      "execution_count": null,
      "outputs": []
    },
    {
      "cell_type": "code",
      "metadata": {
        "id": "BrZgL39a3ONU",
        "colab_type": "code",
        "colab": {
          "base_uri": "https://localhost:8080/",
          "height": 111
        },
        "outputId": "3237ff13-4ce2-43e4-900d-5c26fe0b3ac6"
      },
      "source": [
        "df1"
      ],
      "execution_count": null,
      "outputs": [
        {
          "output_type": "execute_result",
          "data": {
            "text/html": [
              "<div>\n",
              "<style scoped>\n",
              "    .dataframe tbody tr th:only-of-type {\n",
              "        vertical-align: middle;\n",
              "    }\n",
              "\n",
              "    .dataframe tbody tr th {\n",
              "        vertical-align: top;\n",
              "    }\n",
              "\n",
              "    .dataframe thead th {\n",
              "        text-align: right;\n",
              "    }\n",
              "</style>\n",
              "<table border=\"1\" class=\"dataframe\">\n",
              "  <thead>\n",
              "    <tr style=\"text-align: right;\">\n",
              "      <th></th>\n",
              "      <th>Survived</th>\n",
              "      <th>Age</th>\n",
              "    </tr>\n",
              "  </thead>\n",
              "  <tbody>\n",
              "    <tr>\n",
              "      <th>0</th>\n",
              "      <td>0</td>\n",
              "      <td>31.0</td>\n",
              "    </tr>\n",
              "    <tr>\n",
              "      <th>1</th>\n",
              "      <td>1</td>\n",
              "      <td>28.0</td>\n",
              "    </tr>\n",
              "  </tbody>\n",
              "</table>\n",
              "</div>"
            ],
            "text/plain": [
              "   Survived   Age\n",
              "0         0  31.0\n",
              "1         1  28.0"
            ]
          },
          "metadata": {
            "tags": []
          },
          "execution_count": 36
        }
      ]
    },
    {
      "cell_type": "code",
      "metadata": {
        "id": "mNqOAqqj3QW1",
        "colab_type": "code",
        "colab": {
          "base_uri": "https://localhost:8080/",
          "height": 111
        },
        "outputId": "e523dc65-cee9-47b6-8401-b8e17b5133af"
      },
      "source": [
        "df2"
      ],
      "execution_count": null,
      "outputs": [
        {
          "output_type": "execute_result",
          "data": {
            "text/html": [
              "<div>\n",
              "<style scoped>\n",
              "    .dataframe tbody tr th:only-of-type {\n",
              "        vertical-align: middle;\n",
              "    }\n",
              "\n",
              "    .dataframe tbody tr th {\n",
              "        vertical-align: top;\n",
              "    }\n",
              "\n",
              "    .dataframe thead th {\n",
              "        text-align: right;\n",
              "    }\n",
              "</style>\n",
              "<table border=\"1\" class=\"dataframe\">\n",
              "  <thead>\n",
              "    <tr style=\"text-align: right;\">\n",
              "      <th></th>\n",
              "      <th>Survived</th>\n",
              "      <th>Age</th>\n",
              "    </tr>\n",
              "  </thead>\n",
              "  <tbody>\n",
              "    <tr>\n",
              "      <th>0</th>\n",
              "      <td>0</td>\n",
              "      <td>14.0</td>\n",
              "    </tr>\n",
              "    <tr>\n",
              "      <th>1</th>\n",
              "      <td>1</td>\n",
              "      <td>15.0</td>\n",
              "    </tr>\n",
              "  </tbody>\n",
              "</table>\n",
              "</div>"
            ],
            "text/plain": [
              "   Survived   Age\n",
              "0         0  14.0\n",
              "1         1  15.0"
            ]
          },
          "metadata": {
            "tags": []
          },
          "execution_count": 37
        }
      ]
    },
    {
      "cell_type": "code",
      "metadata": {
        "id": "bqUbwaAc3SBn",
        "colab_type": "code",
        "colab": {}
      },
      "source": [
        "df3 = pd.merge(df1, df2, on='Survived')"
      ],
      "execution_count": null,
      "outputs": []
    },
    {
      "cell_type": "code",
      "metadata": {
        "id": "pbZWeYhm3T6q",
        "colab_type": "code",
        "colab": {
          "base_uri": "https://localhost:8080/",
          "height": 111
        },
        "outputId": "0e94bbce-9adb-4649-94e2-a03201ab0603"
      },
      "source": [
        "df3"
      ],
      "execution_count": null,
      "outputs": [
        {
          "output_type": "execute_result",
          "data": {
            "text/html": [
              "<div>\n",
              "<style scoped>\n",
              "    .dataframe tbody tr th:only-of-type {\n",
              "        vertical-align: middle;\n",
              "    }\n",
              "\n",
              "    .dataframe tbody tr th {\n",
              "        vertical-align: top;\n",
              "    }\n",
              "\n",
              "    .dataframe thead th {\n",
              "        text-align: right;\n",
              "    }\n",
              "</style>\n",
              "<table border=\"1\" class=\"dataframe\">\n",
              "  <thead>\n",
              "    <tr style=\"text-align: right;\">\n",
              "      <th></th>\n",
              "      <th>Survived</th>\n",
              "      <th>Age_x</th>\n",
              "      <th>Age_y</th>\n",
              "    </tr>\n",
              "  </thead>\n",
              "  <tbody>\n",
              "    <tr>\n",
              "      <th>0</th>\n",
              "      <td>0</td>\n",
              "      <td>31.0</td>\n",
              "      <td>14.0</td>\n",
              "    </tr>\n",
              "    <tr>\n",
              "      <th>1</th>\n",
              "      <td>1</td>\n",
              "      <td>28.0</td>\n",
              "      <td>15.0</td>\n",
              "    </tr>\n",
              "  </tbody>\n",
              "</table>\n",
              "</div>"
            ],
            "text/plain": [
              "   Survived  Age_x  Age_y\n",
              "0         0   31.0   14.0\n",
              "1         1   28.0   15.0"
            ]
          },
          "metadata": {
            "tags": []
          },
          "execution_count": 39
        }
      ]
    },
    {
      "cell_type": "code",
      "metadata": {
        "id": "ADdEYUd83ViN",
        "colab_type": "code",
        "colab": {}
      },
      "source": [
        "df3.columns = ['Survived', 'Age Mean', 'Age Standard Deviation']"
      ],
      "execution_count": null,
      "outputs": []
    },
    {
      "cell_type": "code",
      "metadata": {
        "id": "V-PXSmuh3XYK",
        "colab_type": "code",
        "colab": {
          "base_uri": "https://localhost:8080/",
          "height": 108
        },
        "outputId": "c33cc01c-7de7-4704-a190-de4d624ccc2b"
      },
      "source": [
        "df3"
      ],
      "execution_count": null,
      "outputs": [
        {
          "output_type": "execute_result",
          "data": {
            "text/html": [
              "<div>\n",
              "<style scoped>\n",
              "    .dataframe tbody tr th:only-of-type {\n",
              "        vertical-align: middle;\n",
              "    }\n",
              "\n",
              "    .dataframe tbody tr th {\n",
              "        vertical-align: top;\n",
              "    }\n",
              "\n",
              "    .dataframe thead th {\n",
              "        text-align: right;\n",
              "    }\n",
              "</style>\n",
              "<table border=\"1\" class=\"dataframe\">\n",
              "  <thead>\n",
              "    <tr style=\"text-align: right;\">\n",
              "      <th></th>\n",
              "      <th>Survived</th>\n",
              "      <th>Average Age</th>\n",
              "      <th>Age Standard Deviation</th>\n",
              "    </tr>\n",
              "  </thead>\n",
              "  <tbody>\n",
              "    <tr>\n",
              "      <th>0</th>\n",
              "      <td>0</td>\n",
              "      <td>31.0</td>\n",
              "      <td>14.0</td>\n",
              "    </tr>\n",
              "    <tr>\n",
              "      <th>1</th>\n",
              "      <td>1</td>\n",
              "      <td>28.0</td>\n",
              "      <td>15.0</td>\n",
              "    </tr>\n",
              "  </tbody>\n",
              "</table>\n",
              "</div>"
            ],
            "text/plain": [
              "   Survived  Average Age  Age Standard Deviation\n",
              "0         0         31.0                    14.0\n",
              "1         1         28.0                    15.0"
            ]
          },
          "metadata": {
            "tags": []
          },
          "execution_count": 54
        }
      ]
    },
    {
      "cell_type": "markdown",
      "metadata": {
        "id": "vFThGIqH3ZmH",
        "colab_type": "text"
      },
      "source": [
        "###Pivot Tables\n",
        "You can reshuffle the data in Pivot tables similar to Excel PivotTables."
      ]
    },
    {
      "cell_type": "code",
      "metadata": {
        "id": "jrHZhXrk3cKw",
        "colab_type": "code",
        "colab": {
          "base_uri": "https://localhost:8080/",
          "height": 173
        },
        "outputId": "1ae10104-5179-4239-e12b-4deef9d6ecb8"
      },
      "source": [
        "df.pivot_table(index='Pclass',\n",
        "               columns='Survived',\n",
        "               values='PassengerId',\n",
        "               aggfunc='count')"
      ],
      "execution_count": null,
      "outputs": [
        {
          "output_type": "execute_result",
          "data": {
            "text/html": [
              "<div>\n",
              "<style scoped>\n",
              "    .dataframe tbody tr th:only-of-type {\n",
              "        vertical-align: middle;\n",
              "    }\n",
              "\n",
              "    .dataframe tbody tr th {\n",
              "        vertical-align: top;\n",
              "    }\n",
              "\n",
              "    .dataframe thead th {\n",
              "        text-align: right;\n",
              "    }\n",
              "</style>\n",
              "<table border=\"1\" class=\"dataframe\">\n",
              "  <thead>\n",
              "    <tr style=\"text-align: right;\">\n",
              "      <th>Survived</th>\n",
              "      <th>0</th>\n",
              "      <th>1</th>\n",
              "    </tr>\n",
              "    <tr>\n",
              "      <th>Pclass</th>\n",
              "      <th></th>\n",
              "      <th></th>\n",
              "    </tr>\n",
              "  </thead>\n",
              "  <tbody>\n",
              "    <tr>\n",
              "      <th>1</th>\n",
              "      <td>80</td>\n",
              "      <td>136</td>\n",
              "    </tr>\n",
              "    <tr>\n",
              "      <th>2</th>\n",
              "      <td>97</td>\n",
              "      <td>87</td>\n",
              "    </tr>\n",
              "    <tr>\n",
              "      <th>3</th>\n",
              "      <td>372</td>\n",
              "      <td>119</td>\n",
              "    </tr>\n",
              "  </tbody>\n",
              "</table>\n",
              "</div>"
            ],
            "text/plain": [
              "Survived    0    1\n",
              "Pclass            \n",
              "1          80  136\n",
              "2          97   87\n",
              "3         372  119"
            ]
          },
          "metadata": {
            "tags": []
          },
          "execution_count": 41
        }
      ]
    },
    {
      "cell_type": "markdown",
      "metadata": {
        "id": "brt7fffo3fqx",
        "colab_type": "text"
      },
      "source": [
        "###Correlations\n",
        "In Pandas you can also calculate correlations between features. "
      ]
    },
    {
      "cell_type": "code",
      "metadata": {
        "id": "PPZ4OGaE3jlO",
        "colab_type": "code",
        "colab": {
          "base_uri": "https://localhost:8080/",
          "height": 153
        },
        "outputId": "8172fd89-7d27-4680-f89a-a0d8fa00980e"
      },
      "source": [
        "correlated_with_survived = df.corr()['Survived'].sort_values()\n",
        "correlated_with_survived"
      ],
      "execution_count": null,
      "outputs": [
        {
          "output_type": "execute_result",
          "data": {
            "text/plain": [
              "Pclass        -0.338481\n",
              "Age           -0.077221\n",
              "SibSp         -0.035322\n",
              "PassengerId   -0.005007\n",
              "Parch          0.081629\n",
              "Fare           0.257307\n",
              "Survived       1.000000\n",
              "Name: Survived, dtype: float64"
            ]
          },
          "metadata": {
            "tags": []
          },
          "execution_count": 42
        }
      ]
    },
    {
      "cell_type": "code",
      "metadata": {
        "id": "AYuizfqC3mLJ",
        "colab_type": "code",
        "colab": {}
      },
      "source": [
        "%matplotlib inline"
      ],
      "execution_count": null,
      "outputs": []
    },
    {
      "cell_type": "code",
      "metadata": {
        "id": "neycgDKu3pCe",
        "colab_type": "code",
        "colab": {
          "base_uri": "https://localhost:8080/",
          "height": 349
        },
        "outputId": "891c631b-1596-4900-93a9-d156ab5a5e11"
      },
      "source": [
        "correlated_with_survived.iloc[:-1].plot(kind='bar',\n",
        "                                        title='Titanic Passengers: correlation with survival')"
      ],
      "execution_count": null,
      "outputs": [
        {
          "output_type": "execute_result",
          "data": {
            "text/plain": [
              "<matplotlib.axes._subplots.AxesSubplot at 0x7fea74481b00>"
            ]
          },
          "metadata": {
            "tags": []
          },
          "execution_count": 44
        },
        {
          "output_type": "display_data",
          "data": {
            "image/png": "[encoded data removed]",
            "text/plain": [
              "<Figure size 432x288 with 1 Axes>"
            ]
          },
          "metadata": {
            "tags": [],
            "needs_background": "light"
          }
        }
      ]
    },
    {
      "cell_type": "markdown",
      "metadata": {
        "id": "_CTuMSqLgVof",
        "colab_type": "text"
      },
      "source": [
        "#Part II - Visual Data Exploratory Analysis with Matplotlib\n",
        "\n",
        "Matplotlib is a Python 2D plotting library which produces quality figures in a variety of hardcopy formats."
      ]
    },
    {
      "cell_type": "code",
      "metadata": {
        "id": "X8XqGOsQgYb5",
        "colab_type": "code",
        "colab": {}
      },
      "source": [
        "# Generating some random data for visualization!\n",
        "data1 = np.random.normal(0, 0.1, 1000)\n",
        "data2 = np.random.normal(1, 0.4, 1000) + np.linspace(0, 1, 1000)\n",
        "data3 = 2 + np.random.random(1000) * np.linspace(1, 5, 1000)\n",
        "data4 = np.random.normal(3, 0.2, 1000) + 0.3 * np.sin(np.linspace(0, 20, 1000))"
      ],
      "execution_count": null,
      "outputs": []
    },
    {
      "cell_type": "code",
      "metadata": {
        "id": "eKk_PpsZh1O0",
        "colab_type": "code",
        "colab": {}
      },
      "source": [
        "data = np.vstack([data1, data2, data3, data4]).transpose() #with transpose() - Transposing the data."
      ],
      "execution_count": null,
      "outputs": []
    },
    {
      "cell_type": "code",
      "metadata": {
        "id": "rn31ii9rh1fE",
        "colab_type": "code",
        "colab": {
          "base_uri": "https://localhost:8080/",
          "height": 204
        },
        "outputId": "63ae9fab-f7ee-4cb9-dbe6-c5bdc1ac0bd8"
      },
      "source": [
        "df = pd.DataFrame(data, columns=['data1', 'data2', 'data3', 'data4'])\n",
        "df.head()"
      ],
      "execution_count": null,
      "outputs": [
        {
          "output_type": "execute_result",
          "data": {
            "text/html": [
              "<div>\n",
              "<style scoped>\n",
              "    .dataframe tbody tr th:only-of-type {\n",
              "        vertical-align: middle;\n",
              "    }\n",
              "\n",
              "    .dataframe tbody tr th {\n",
              "        vertical-align: top;\n",
              "    }\n",
              "\n",
              "    .dataframe thead th {\n",
              "        text-align: right;\n",
              "    }\n",
              "</style>\n",
              "<table border=\"1\" class=\"dataframe\">\n",
              "  <thead>\n",
              "    <tr style=\"text-align: right;\">\n",
              "      <th></th>\n",
              "      <th>data1</th>\n",
              "      <th>data2</th>\n",
              "      <th>data3</th>\n",
              "      <th>data4</th>\n",
              "    </tr>\n",
              "  </thead>\n",
              "  <tbody>\n",
              "    <tr>\n",
              "      <th>0</th>\n",
              "      <td>0.011522</td>\n",
              "      <td>1.945899</td>\n",
              "      <td>2.176645</td>\n",
              "      <td>2.849926</td>\n",
              "    </tr>\n",
              "    <tr>\n",
              "      <th>1</th>\n",
              "      <td>-0.131709</td>\n",
              "      <td>0.424021</td>\n",
              "      <td>2.894562</td>\n",
              "      <td>2.943852</td>\n",
              "    </tr>\n",
              "    <tr>\n",
              "      <th>2</th>\n",
              "      <td>-0.034680</td>\n",
              "      <td>1.396698</td>\n",
              "      <td>2.992333</td>\n",
              "      <td>2.809892</td>\n",
              "    </tr>\n",
              "    <tr>\n",
              "      <th>3</th>\n",
              "      <td>0.065630</td>\n",
              "      <td>0.863490</td>\n",
              "      <td>2.177629</td>\n",
              "      <td>3.090060</td>\n",
              "    </tr>\n",
              "    <tr>\n",
              "      <th>4</th>\n",
              "      <td>-0.025757</td>\n",
              "      <td>0.640359</td>\n",
              "      <td>2.505530</td>\n",
              "      <td>2.858271</td>\n",
              "    </tr>\n",
              "  </tbody>\n",
              "</table>\n",
              "</div>"
            ],
            "text/plain": [
              "      data1     data2     data3     data4\n",
              "0  0.011522  1.945899  2.176645  2.849926\n",
              "1 -0.131709  0.424021  2.894562  2.943852\n",
              "2 -0.034680  1.396698  2.992333  2.809892\n",
              "3  0.065630  0.863490  2.177629  3.090060\n",
              "4 -0.025757  0.640359  2.505530  2.858271"
            ]
          },
          "metadata": {
            "tags": []
          },
          "execution_count": 47
        }
      ]
    },
    {
      "cell_type": "code",
      "metadata": {
        "id": "wBYb3SPtM3ye",
        "colab_type": "code",
        "colab": {
          "base_uri": "https://localhost:8080/",
          "height": 204
        },
        "outputId": "200061db-c901-4b85-806c-f3ebfad78970"
      },
      "source": [
        "df.info()"
      ],
      "execution_count": null,
      "outputs": [
        {
          "output_type": "stream",
          "text": [
            "<class 'pandas.core.frame.DataFrame'>\n",
            "RangeIndex: 1000 entries, 0 to 999\n",
            "Data columns (total 4 columns):\n",
            " #   Column  Non-Null Count  Dtype  \n",
            "---  ------  --------------  -----  \n",
            " 0   data1   1000 non-null   float64\n",
            " 1   data2   1000 non-null   float64\n",
            " 2   data3   1000 non-null   float64\n",
            " 3   data4   1000 non-null   float64\n",
            "dtypes: float64(4)\n",
            "memory usage: 31.4 KB\n"
          ],
          "name": "stdout"
        }
      ]
    },
    {
      "cell_type": "markdown",
      "metadata": {
        "id": "591iJ3OliLDP",
        "colab_type": "text"
      },
      "source": [
        "###Line Plot"
      ]
    },
    {
      "cell_type": "code",
      "metadata": {
        "id": "SxinqUIIirzr",
        "colab_type": "code",
        "colab": {
          "base_uri": "https://localhost:8080/",
          "height": 298
        },
        "outputId": "637bf173-bb05-482d-cf9d-2ee248c7f8ff"
      },
      "source": [
        "df.plot(title='Line plot')"
      ],
      "execution_count": null,
      "outputs": [
        {
          "output_type": "execute_result",
          "data": {
            "text/plain": [
              "<matplotlib.axes._subplots.AxesSubplot at 0x7fea74415860>"
            ]
          },
          "metadata": {
            "tags": []
          },
          "execution_count": 49
        },
        {
          "output_type": "display_data",
          "data": {
            "image/png": "[encoded data removed]",
            "text/plain": [
              "<Figure size 432x288 with 1 Axes>"
            ]
          },
          "metadata": {
            "tags": [],
            "needs_background": "light"
          }
        }
      ]
    },
    {
      "cell_type": "code",
      "metadata": {
        "id": "ulynyH6FiwFK",
        "colab_type": "code",
        "colab": {
          "base_uri": "https://localhost:8080/",
          "height": 298
        },
        "outputId": "27fcf933-9f3f-4fd5-ac42-dbfdb4f61328"
      },
      "source": [
        "plt.plot(df)\n",
        "plt.title('Line plot')\n",
        "plt.legend(['data1', 'data2', 'data3', 'data4'])"
      ],
      "execution_count": null,
      "outputs": [
        {
          "output_type": "execute_result",
          "data": {
            "text/plain": [
              "<matplotlib.legend.Legend at 0x7fea73dfdb70>"
            ]
          },
          "metadata": {
            "tags": []
          },
          "execution_count": 50
        },
        {
          "output_type": "display_data",
          "data": {
            "image/png": "[encoded data removed]",
            "text/plain": [
              "<Figure size 432x288 with 1 Axes>"
            ]
          },
          "metadata": {
            "tags": [],
            "needs_background": "light"
          }
        }
      ]
    },
    {
      "cell_type": "markdown",
      "metadata": {
        "id": "amAomRUCjD_r",
        "colab_type": "text"
      },
      "source": [
        "###Scatter Plot"
      ]
    },
    {
      "cell_type": "code",
      "metadata": {
        "id": "ww9_NnCijCRw",
        "colab_type": "code",
        "colab": {
          "base_uri": "https://localhost:8080/",
          "height": 284
        },
        "outputId": "bbb2ad2d-4ceb-4ab6-c897-e433e2f68a5c"
      },
      "source": [
        "df.plot(style='.')"
      ],
      "execution_count": null,
      "outputs": [
        {
          "output_type": "execute_result",
          "data": {
            "text/plain": [
              "<matplotlib.axes._subplots.AxesSubplot at 0x7fea73da8dd8>"
            ]
          },
          "metadata": {
            "tags": []
          },
          "execution_count": 51
        },
        {
          "output_type": "display_data",
          "data": {
            "image/png": "[encoded data removed]",
            "text/plain": [
              "<Figure size 432x288 with 1 Axes>"
            ]
          },
          "metadata": {
            "tags": [],
            "needs_background": "light"
          }
        }
      ]
    },
    {
      "cell_type": "code",
      "metadata": {
        "id": "y_23vf2ijM07",
        "colab_type": "code",
        "colab": {
          "base_uri": "https://localhost:8080/",
          "height": 283
        },
        "outputId": "988f13cb-1c1c-4f6d-be73-ec504a75b51e"
      },
      "source": [
        "_ = df.plot(kind='scatter', x='data1', y='data2',\n",
        "            xlim=(-1.5, 1.5), ylim=(0, 3))"
      ],
      "execution_count": null,
      "outputs": [
        {
          "output_type": "display_data",
          "data": {
            "image/png": "[encoded data removed]",
            "text/plain": [
              "<Figure size 432x288 with 1 Axes>"
            ]
          },
          "metadata": {
            "tags": [],
            "needs_background": "light"
          }
        }
      ]
    },
    {
      "cell_type": "markdown",
      "metadata": {
        "id": "trV8PcsRjT_M",
        "colab_type": "text"
      },
      "source": [
        "###Histograms"
      ]
    },
    {
      "cell_type": "code",
      "metadata": {
        "id": "Dkd0eUeJjY86",
        "colab_type": "code",
        "colab": {
          "base_uri": "https://localhost:8080/",
          "height": 298
        },
        "outputId": "a6c9ec91-11a4-422c-a610-5c718ff71f4a"
      },
      "source": [
        "df.plot(kind='hist',\n",
        "        bins=50,\n",
        "        title='Histogram',\n",
        "        alpha=0.6)"
      ],
      "execution_count": null,
      "outputs": [
        {
          "output_type": "execute_result",
          "data": {
            "text/plain": [
              "<matplotlib.axes._subplots.AxesSubplot at 0x7fea724afba8>"
            ]
          },
          "metadata": {
            "tags": []
          },
          "execution_count": 53
        },
        {
          "output_type": "display_data",
          "data": {
            "image/png": "[encoded data removed]",
            "text/plain": [
              "<Figure size 432x288 with 1 Axes>"
            ]
          },
          "metadata": {
            "tags": [],
            "needs_background": "light"
          }
        }
      ]
    },
    {
      "cell_type": "markdown",
      "metadata": {
        "id": "kuvS0mhAjkLY",
        "colab_type": "text"
      },
      "source": [
        "###Cumulative distribution"
      ]
    },
    {
      "cell_type": "code",
      "metadata": {
        "id": "HnexHT3KjikQ",
        "colab_type": "code",
        "colab": {
          "base_uri": "https://localhost:8080/",
          "height": 298
        },
        "outputId": "0f543979-4d81-412e-bc6a-3ea9a5606734"
      },
      "source": [
        "df.plot(kind='hist',\n",
        "        bins=100,\n",
        "        title='Cumulative distributions',\n",
        "        #normed=True,\n",
        "        cumulative=True,\n",
        "        alpha=0.4)"
      ],
      "execution_count": null,
      "outputs": [
        {
          "output_type": "execute_result",
          "data": {
            "text/plain": [
              "<matplotlib.axes._subplots.AxesSubplot at 0x7fea6fa2c048>"
            ]
          },
          "metadata": {
            "tags": []
          },
          "execution_count": 54
        },
        {
          "output_type": "display_data",
          "data": {
            "image/png": "[encoded data removed]",
            "text/plain": [
              "<Figure size 432x288 with 1 Axes>"
            ]
          },
          "metadata": {
            "tags": [],
            "needs_background": "light"
          }
        }
      ]
    },
    {
      "cell_type": "markdown",
      "metadata": {
        "id": "zDQrQC_Sjs8I",
        "colab_type": "text"
      },
      "source": [
        "###Box Plot"
      ]
    },
    {
      "cell_type": "code",
      "metadata": {
        "id": "6pVDuGlxjsUX",
        "colab_type": "code",
        "colab": {
          "base_uri": "https://localhost:8080/",
          "height": 298
        },
        "outputId": "f63cda90-9770-490a-aea4-dcf1eb714204"
      },
      "source": [
        "df.plot(kind='box',\n",
        "        title='Boxplot')"
      ],
      "execution_count": null,
      "outputs": [
        {
          "output_type": "execute_result",
          "data": {
            "text/plain": [
              "<matplotlib.axes._subplots.AxesSubplot at 0x7fea6f552eb8>"
            ]
          },
          "metadata": {
            "tags": []
          },
          "execution_count": 55
        },
        {
          "output_type": "display_data",
          "data": {
            "image/png": "[encoded data removed]",
            "text/plain": [
              "<Figure size 432x288 with 1 Axes>"
            ]
          },
          "metadata": {
            "tags": [],
            "needs_background": "light"
          }
        }
      ]
    },
    {
      "cell_type": "markdown",
      "metadata": {
        "id": "ppGX1-NWj1sx",
        "colab_type": "text"
      },
      "source": [
        "###Subplots"
      ]
    },
    {
      "cell_type": "code",
      "metadata": {
        "id": "AstIT58zj5Me",
        "colab_type": "code",
        "colab": {
          "base_uri": "https://localhost:8080/",
          "height": 369
        },
        "outputId": "77ca90b4-a7fc-4b64-e221-e653c97e4070"
      },
      "source": [
        "fig, ax = plt.subplots(2, 2, figsize=(5, 5))\n",
        "\n",
        "df.plot(ax=ax[0][0],\n",
        "        title='Line plot')\n",
        "\n",
        "df.plot(ax=ax[0][1],\n",
        "        style='o',\n",
        "        title='Scatter plot')\n",
        "\n",
        "df.plot(ax=ax[1][0],\n",
        "        kind='hist',\n",
        "        bins=50,\n",
        "        title='Histogram')\n",
        "\n",
        "df.plot(ax=ax[1][1],\n",
        "        kind='box',\n",
        "        title='Boxplot')\n",
        "\n",
        "plt.tight_layout()"
      ],
      "execution_count": null,
      "outputs": [
        {
          "output_type": "display_data",
          "data": {
            "image/png": "[encoded data removed]",
            "text/plain": [
              "<Figure size 360x360 with 4 Axes>"
            ]
          },
          "metadata": {
            "tags": [],
            "needs_background": "light"
          }
        }
      ]
    },
    {
      "cell_type": "markdown",
      "metadata": {
        "id": "sN_PDQwrkAja",
        "colab_type": "text"
      },
      "source": [
        "###Pie charts"
      ]
    },
    {
      "cell_type": "code",
      "metadata": {
        "id": "d5aM9Gn3kEwV",
        "colab_type": "code",
        "colab": {
          "base_uri": "https://localhost:8080/",
          "height": 68
        },
        "outputId": "97bcb6a4-246c-4c0d-ea5f-93e70ae1877a"
      },
      "source": [
        "gt01 = df['data1'] > 0.1\n",
        "piecounts = gt01.value_counts()\n",
        "piecounts"
      ],
      "execution_count": null,
      "outputs": [
        {
          "output_type": "execute_result",
          "data": {
            "text/plain": [
              "False    833\n",
              "True     167\n",
              "Name: data1, dtype: int64"
            ]
          },
          "metadata": {
            "tags": []
          },
          "execution_count": 57
        }
      ]
    },
    {
      "cell_type": "code",
      "metadata": {
        "id": "TQ7KIElokJiv",
        "colab_type": "code",
        "colab": {
          "base_uri": "https://localhost:8080/",
          "height": 320
        },
        "outputId": "6ff3682f-3f7b-4c68-855f-786148eb34d9"
      },
      "source": [
        "piecounts.plot(kind='pie',\n",
        "               figsize=(5, 5),\n",
        "               explode=[0, 0.15],\n",
        "               labels=['<= 0.1', '> 0.1'],\n",
        "               autopct='%1.1f%%',\n",
        "               shadow=True,\n",
        "               startangle=90,\n",
        "               fontsize=16)"
      ],
      "execution_count": null,
      "outputs": [
        {
          "output_type": "execute_result",
          "data": {
            "text/plain": [
              "<matplotlib.axes._subplots.AxesSubplot at 0x7fea6f18dd68>"
            ]
          },
          "metadata": {
            "tags": []
          },
          "execution_count": 58
        },
        {
          "output_type": "display_data",
          "data": {
            "image/png": "[encoded data removed]",
            "text/plain": [
              "<Figure size 360x360 with 1 Axes>"
            ]
          },
          "metadata": {
            "tags": []
          }
        }
      ]
    },
    {
      "cell_type": "markdown",
      "metadata": {
        "id": "wHpetmQRkIrY",
        "colab_type": "text"
      },
      "source": [
        "###Hexbin plot"
      ]
    },
    {
      "cell_type": "code",
      "metadata": {
        "id": "vHB0BC1nkRK8",
        "colab_type": "code",
        "colab": {}
      },
      "source": [
        "data = np.vstack([np.random.normal((0, 0), 2, size=(1000, 2)),\n",
        "                  np.random.normal((9, 9), 3, size=(2000, 2))])\n",
        "df = pd.DataFrame(data, columns=['x', 'y'])"
      ],
      "execution_count": null,
      "outputs": []
    },
    {
      "cell_type": "code",
      "metadata": {
        "id": "TW6H6ywykU_r",
        "colab_type": "code",
        "colab": {
          "base_uri": "https://localhost:8080/",
          "height": 204
        },
        "outputId": "3477be64-529e-4310-ee64-9913d1e2669a"
      },
      "source": [
        "df.head()"
      ],
      "execution_count": null,
      "outputs": [
        {
          "output_type": "execute_result",
          "data": {
            "text/html": [
              "<div>\n",
              "<style scoped>\n",
              "    .dataframe tbody tr th:only-of-type {\n",
              "        vertical-align: middle;\n",
              "    }\n",
              "\n",
              "    .dataframe tbody tr th {\n",
              "        vertical-align: top;\n",
              "    }\n",
              "\n",
              "    .dataframe thead th {\n",
              "        text-align: right;\n",
              "    }\n",
              "</style>\n",
              "<table border=\"1\" class=\"dataframe\">\n",
              "  <thead>\n",
              "    <tr style=\"text-align: right;\">\n",
              "      <th></th>\n",
              "      <th>x</th>\n",
              "      <th>y</th>\n",
              "    </tr>\n",
              "  </thead>\n",
              "  <tbody>\n",
              "    <tr>\n",
              "      <th>0</th>\n",
              "      <td>-0.209870</td>\n",
              "      <td>2.391744</td>\n",
              "    </tr>\n",
              "    <tr>\n",
              "      <th>1</th>\n",
              "      <td>-0.977047</td>\n",
              "      <td>1.608043</td>\n",
              "    </tr>\n",
              "    <tr>\n",
              "      <th>2</th>\n",
              "      <td>-0.318935</td>\n",
              "      <td>2.185329</td>\n",
              "    </tr>\n",
              "    <tr>\n",
              "      <th>3</th>\n",
              "      <td>-3.279031</td>\n",
              "      <td>-2.296261</td>\n",
              "    </tr>\n",
              "    <tr>\n",
              "      <th>4</th>\n",
              "      <td>-0.977950</td>\n",
              "      <td>-2.030659</td>\n",
              "    </tr>\n",
              "  </tbody>\n",
              "</table>\n",
              "</div>"
            ],
            "text/plain": [
              "          x         y\n",
              "0 -0.209870  2.391744\n",
              "1 -0.977047  1.608043\n",
              "2 -0.318935  2.185329\n",
              "3 -3.279031 -2.296261\n",
              "4 -0.977950 -2.030659"
            ]
          },
          "metadata": {
            "tags": []
          },
          "execution_count": 60
        }
      ]
    },
    {
      "cell_type": "code",
      "metadata": {
        "id": "Tq5Vh2VxkWie",
        "colab_type": "code",
        "colab": {
          "base_uri": "https://localhost:8080/",
          "height": 282
        },
        "outputId": "479ffda6-ac85-4f9f-950c-5f3123f1e7e6"
      },
      "source": [
        "df.plot()"
      ],
      "execution_count": null,
      "outputs": [
        {
          "output_type": "execute_result",
          "data": {
            "text/plain": [
              "<matplotlib.axes._subplots.AxesSubplot at 0x7fea6f0dcba8>"
            ]
          },
          "metadata": {
            "tags": []
          },
          "execution_count": 61
        },
        {
          "output_type": "display_data",
          "data": {
            "image/png": "[encoded data removed]",
            "text/plain": [
              "<Figure size 432x288 with 1 Axes>"
            ]
          },
          "metadata": {
            "tags": [],
            "needs_background": "light"
          }
        }
      ]
    },
    {
      "cell_type": "code",
      "metadata": {
        "id": "q-ewKna9kWw7",
        "colab_type": "code",
        "colab": {
          "base_uri": "https://localhost:8080/",
          "height": 282
        },
        "outputId": "5e9a87b9-5520-43c3-8d92-a8cc273d3252"
      },
      "source": [
        "df.plot(kind='kde')"
      ],
      "execution_count": null,
      "outputs": [
        {
          "output_type": "execute_result",
          "data": {
            "text/plain": [
              "<matplotlib.axes._subplots.AxesSubplot at 0x7fea65877cc0>"
            ]
          },
          "metadata": {
            "tags": []
          },
          "execution_count": 63
        },
        {
          "output_type": "display_data",
          "data": {
            "image/png": "[encoded data removed]",
            "text/plain": [
              "<Figure size 432x288 with 1 Axes>"
            ]
          },
          "metadata": {
            "tags": [],
            "needs_background": "light"
          }
        }
      ]
    },
    {
      "cell_type": "code",
      "metadata": {
        "id": "42WTxD6-keXp",
        "colab_type": "code",
        "colab": {
          "base_uri": "https://localhost:8080/",
          "height": 271
        },
        "outputId": "aeda1fb7-b58a-4605-933b-15c047d3bbba"
      },
      "source": [
        "df.plot(kind='hexbin', x='x', y='y', bins=100, cmap='rainbow')"
      ],
      "execution_count": null,
      "outputs": [
        {
          "output_type": "execute_result",
          "data": {
            "text/plain": [
              "<matplotlib.axes._subplots.AxesSubplot at 0x7fea657df390>"
            ]
          },
          "metadata": {
            "tags": []
          },
          "execution_count": 64
        },
        {
          "output_type": "display_data",
          "data": {
            "image/png": "[encoded data removed]",
            "text/plain": [
              "<Figure size 432x288 with 2 Axes>"
            ]
          },
          "metadata": {
            "tags": [],
            "needs_background": "light"
          }
        }
      ]
    },
    {
      "cell_type": "markdown",
      "metadata": {
        "id": "Os5C8dWlkzX0",
        "colab_type": "text"
      },
      "source": [
        "#Part III - Numpy "
      ]
    },
    {
      "cell_type": "markdown",
      "metadata": {
        "id": "j8MX_JL4MJMk",
        "colab_type": "text"
      },
      "source": [
        "###Linear Algebra with Numpy"
      ]
    },
    {
      "cell_type": "code",
      "metadata": {
        "id": "U_yb_7uWMRBR",
        "colab_type": "code",
        "colab": {}
      },
      "source": [
        "a = np.array([1, 3, 2, 4])"
      ],
      "execution_count": null,
      "outputs": []
    },
    {
      "cell_type": "code",
      "metadata": {
        "id": "AM9L_8meMSzq",
        "colab_type": "code",
        "colab": {
          "base_uri": "https://localhost:8080/",
          "height": 34
        },
        "outputId": "8520ed5d-85f4-4eab-80a1-3e63bb005bdc"
      },
      "source": [
        "a"
      ],
      "execution_count": null,
      "outputs": [
        {
          "output_type": "execute_result",
          "data": {
            "text/plain": [
              "array([1, 3, 2, 4])"
            ]
          },
          "metadata": {
            "tags": []
          },
          "execution_count": 66
        }
      ]
    },
    {
      "cell_type": "code",
      "metadata": {
        "id": "Essokc_2MUZv",
        "colab_type": "code",
        "colab": {
          "base_uri": "https://localhost:8080/",
          "height": 34
        },
        "outputId": "49e6a42f-9084-4c6e-b7ba-2b9eea57a397"
      },
      "source": [
        "type(a)"
      ],
      "execution_count": null,
      "outputs": [
        {
          "output_type": "execute_result",
          "data": {
            "text/plain": [
              "numpy.ndarray"
            ]
          },
          "metadata": {
            "tags": []
          },
          "execution_count": 67
        }
      ]
    },
    {
      "cell_type": "code",
      "metadata": {
        "id": "u78UD4EuMgZv",
        "colab_type": "code",
        "colab": {
          "base_uri": "https://localhost:8080/",
          "height": 85
        },
        "outputId": "0580ef09-b0de-4373-9703-5ac9543b6af1"
      },
      "source": [
        "A = np.array([[3, 1, 2],\n",
        "              [2, 3, 4]])\n",
        "\n",
        "B = np.array([[0, 1],\n",
        "              [2, 3],\n",
        "              [4, 5]])\n",
        "\n",
        "C = np.array([[0, 1],\n",
        "              [2, 3],\n",
        "              [4, 5],\n",
        "              [0, 1],\n",
        "              [2, 3],\n",
        "              [4, 5]])\n",
        "\n",
        "print(\"A is a {} matrix\".format(A.shape))\n",
        "print(\"B is a {} matrix\".format(B.shape))\n",
        "print(\"C is a {} matrix\".format(C.shape))\n",
        "print(\"A is a \" + str(A.shape) + \" matrix\")"
      ],
      "execution_count": null,
      "outputs": [
        {
          "output_type": "stream",
          "text": [
            "A is a (2, 3) matrix\n",
            "B is a (3, 2) matrix\n",
            "C is a (6, 2) matrix\n",
            "A is a (2, 3) matrix\n"
          ],
          "name": "stdout"
        }
      ]
    },
    {
      "cell_type": "code",
      "metadata": {
        "id": "POG_u3C_Mja2",
        "colab_type": "code",
        "colab": {
          "base_uri": "https://localhost:8080/",
          "height": 34
        },
        "outputId": "8972f599-013c-48d7-d762-f46a3304fb78"
      },
      "source": [
        "A[0]"
      ],
      "execution_count": null,
      "outputs": [
        {
          "output_type": "execute_result",
          "data": {
            "text/plain": [
              "array([3, 1, 2])"
            ]
          },
          "metadata": {
            "tags": []
          },
          "execution_count": 69
        }
      ]
    },
    {
      "cell_type": "code",
      "metadata": {
        "id": "II5VPXKyMlZs",
        "colab_type": "code",
        "colab": {
          "base_uri": "https://localhost:8080/",
          "height": 34
        },
        "outputId": "0f071a1b-ecd4-4ef6-adcc-eb0c3830a5e8"
      },
      "source": [
        "C[2, 0]"
      ],
      "execution_count": null,
      "outputs": [
        {
          "output_type": "execute_result",
          "data": {
            "text/plain": [
              "4"
            ]
          },
          "metadata": {
            "tags": []
          },
          "execution_count": 70
        }
      ]
    },
    {
      "cell_type": "code",
      "metadata": {
        "id": "uxkdtmVDMoIK",
        "colab_type": "code",
        "colab": {
          "base_uri": "https://localhost:8080/",
          "height": 34
        },
        "outputId": "7da90566-d7bf-4fdb-9710-c220f149864f"
      },
      "source": [
        "B[:, 0]"
      ],
      "execution_count": null,
      "outputs": [
        {
          "output_type": "execute_result",
          "data": {
            "text/plain": [
              "array([0, 2, 4])"
            ]
          },
          "metadata": {
            "tags": []
          },
          "execution_count": 71
        }
      ]
    },
    {
      "cell_type": "markdown",
      "metadata": {
        "id": "NcVKdrs7MtBJ",
        "colab_type": "text"
      },
      "source": [
        "###Elementwise operations"
      ]
    },
    {
      "cell_type": "code",
      "metadata": {
        "id": "UY4EnoYrMp2K",
        "colab_type": "code",
        "colab": {
          "base_uri": "https://localhost:8080/",
          "height": 51
        },
        "outputId": "d2d50dec-4263-481e-ff9e-c3a9dab2a27c"
      },
      "source": [
        "3 * A"
      ],
      "execution_count": null,
      "outputs": [
        {
          "output_type": "execute_result",
          "data": {
            "text/plain": [
              "array([[ 9,  3,  6],\n",
              "       [ 6,  9, 12]])"
            ]
          },
          "metadata": {
            "tags": []
          },
          "execution_count": 72
        }
      ]
    },
    {
      "cell_type": "code",
      "metadata": {
        "id": "G3TjxiX8Mxck",
        "colab_type": "code",
        "colab": {
          "base_uri": "https://localhost:8080/",
          "height": 51
        },
        "outputId": "64bde17a-f592-4f3d-8b0d-2f9694640558"
      },
      "source": [
        "A + A"
      ],
      "execution_count": null,
      "outputs": [
        {
          "output_type": "execute_result",
          "data": {
            "text/plain": [
              "array([[6, 2, 4],\n",
              "       [4, 6, 8]])"
            ]
          },
          "metadata": {
            "tags": []
          },
          "execution_count": 73
        }
      ]
    },
    {
      "cell_type": "code",
      "metadata": {
        "id": "JPMGBRngMxXR",
        "colab_type": "code",
        "colab": {}
      },
      "source": [
        "A * A"
      ],
      "execution_count": null,
      "outputs": []
    },
    {
      "cell_type": "code",
      "metadata": {
        "id": "_Cin0rtlMxOn",
        "colab_type": "code",
        "colab": {
          "base_uri": "https://localhost:8080/",
          "height": 51
        },
        "outputId": "1e742577-b9f9-4256-a4f0-1a3d513fa80c"
      },
      "source": [
        "A / A"
      ],
      "execution_count": null,
      "outputs": [
        {
          "output_type": "execute_result",
          "data": {
            "text/plain": [
              "array([[1., 1., 1.],\n",
              "       [1., 1., 1.]])"
            ]
          },
          "metadata": {
            "tags": []
          },
          "execution_count": 74
        }
      ]
    },
    {
      "cell_type": "code",
      "metadata": {
        "id": "05by76O8M1ch",
        "colab_type": "code",
        "colab": {
          "base_uri": "https://localhost:8080/",
          "height": 51
        },
        "outputId": "c9b5d1ed-b83e-4af8-9ec9-0cd1ab1c37ab"
      },
      "source": [
        "A - A"
      ],
      "execution_count": null,
      "outputs": [
        {
          "output_type": "execute_result",
          "data": {
            "text/plain": [
              "array([[0, 0, 0],\n",
              "       [0, 0, 0]])"
            ]
          },
          "metadata": {
            "tags": []
          },
          "execution_count": 75
        }
      ]
    },
    {
      "cell_type": "markdown",
      "metadata": {
        "id": "ZTjVUEOTM7N2",
        "colab_type": "text"
      },
      "source": [
        "###Dot product"
      ]
    },
    {
      "cell_type": "code",
      "metadata": {
        "id": "2roLx7N8M98T",
        "colab_type": "code",
        "colab": {
          "base_uri": "https://localhost:8080/",
          "height": 34
        },
        "outputId": "7be5669e-7e75-4a2e-fedc-4e3cc7a4aba2"
      },
      "source": [
        "A.shape"
      ],
      "execution_count": null,
      "outputs": [
        {
          "output_type": "execute_result",
          "data": {
            "text/plain": [
              "(2, 3)"
            ]
          },
          "metadata": {
            "tags": []
          },
          "execution_count": 76
        }
      ]
    },
    {
      "cell_type": "code",
      "metadata": {
        "id": "wVuBADLxM90L",
        "colab_type": "code",
        "colab": {
          "base_uri": "https://localhost:8080/",
          "height": 34
        },
        "outputId": "2ffebafb-36e6-4320-c8d2-e17dcabda68d"
      },
      "source": [
        "B.shape"
      ],
      "execution_count": null,
      "outputs": [
        {
          "output_type": "execute_result",
          "data": {
            "text/plain": [
              "(3, 2)"
            ]
          },
          "metadata": {
            "tags": []
          },
          "execution_count": 77
        }
      ]
    },
    {
      "cell_type": "code",
      "metadata": {
        "id": "-aQ63pk1M9m1",
        "colab_type": "code",
        "colab": {}
      },
      "source": [
        "A.dot(B) # Product of matrices"
      ],
      "execution_count": null,
      "outputs": []
    },
    {
      "cell_type": "code",
      "metadata": {
        "id": "EmmpLf6uNC-O",
        "colab_type": "code",
        "colab": {
          "base_uri": "https://localhost:8080/",
          "height": 51
        },
        "outputId": "0c920535-3086-4772-ba3a-f0554d5b5a7d"
      },
      "source": [
        "np.dot(A, B)"
      ],
      "execution_count": null,
      "outputs": [
        {
          "output_type": "execute_result",
          "data": {
            "text/plain": [
              "array([[10, 16],\n",
              "       [22, 31]])"
            ]
          },
          "metadata": {
            "tags": []
          },
          "execution_count": 78
        }
      ]
    },
    {
      "cell_type": "code",
      "metadata": {
        "id": "to6FPNdaNCxH",
        "colab_type": "code",
        "colab": {}
      },
      "source": [
        "B.dot(A)"
      ],
      "execution_count": null,
      "outputs": []
    },
    {
      "cell_type": "code",
      "metadata": {
        "id": "Bzjf7W9gNCnG",
        "colab_type": "code",
        "colab": {
          "base_uri": "https://localhost:8080/",
          "height": 34
        },
        "outputId": "6dc63414-bac8-4e2a-d1e9-548850df9602"
      },
      "source": [
        "C.shape"
      ],
      "execution_count": null,
      "outputs": [
        {
          "output_type": "execute_result",
          "data": {
            "text/plain": [
              "(6, 2)"
            ]
          },
          "metadata": {
            "tags": []
          },
          "execution_count": 79
        }
      ]
    },
    {
      "cell_type": "code",
      "metadata": {
        "id": "0hW-830cNIRm",
        "colab_type": "code",
        "colab": {
          "base_uri": "https://localhost:8080/",
          "height": 34
        },
        "outputId": "1c730ded-6f33-4c7e-88ff-2efa846b307b"
      },
      "source": [
        "A.shape"
      ],
      "execution_count": null,
      "outputs": [
        {
          "output_type": "execute_result",
          "data": {
            "text/plain": [
              "(2, 3)"
            ]
          },
          "metadata": {
            "tags": []
          },
          "execution_count": 80
        }
      ]
    },
    {
      "cell_type": "code",
      "metadata": {
        "id": "JxAasDDcNLIC",
        "colab_type": "code",
        "colab": {
          "base_uri": "https://localhost:8080/",
          "height": 119
        },
        "outputId": "ea946e61-d59d-4be9-cf1e-ac2d146badab"
      },
      "source": [
        "C.dot(A)"
      ],
      "execution_count": null,
      "outputs": [
        {
          "output_type": "execute_result",
          "data": {
            "text/plain": [
              "array([[ 2,  3,  4],\n",
              "       [12, 11, 16],\n",
              "       [22, 19, 28],\n",
              "       [ 2,  3,  4],\n",
              "       [12, 11, 16],\n",
              "       [22, 19, 28]])"
            ]
          },
          "metadata": {
            "tags": []
          },
          "execution_count": 81
        }
      ]
    },
    {
      "cell_type": "markdown",
      "metadata": {
        "id": "G5qw3oGAlBeE",
        "colab_type": "text"
      },
      "source": [
        "###Unstructured data: images, sounds etc.\n",
        "\n",
        "Here we will explore images and sounds."
      ]
    },
    {
      "cell_type": "markdown",
      "metadata": {
        "id": "ij-fbLf5mEzM",
        "colab_type": "text"
      },
      "source": [
        "###Images"
      ]
    },
    {
      "cell_type": "code",
      "metadata": {
        "id": "VTnkXGTkk9qJ",
        "colab_type": "code",
        "colab": {}
      },
      "source": [
        "from PIL import Image"
      ],
      "execution_count": null,
      "outputs": []
    },
    {
      "cell_type": "code",
      "metadata": {
        "id": "-WDH2n3VlkAv",
        "colab_type": "code",
        "colab": {}
      },
      "source": [
        "# Change the path to YOUR image\n",
        "img = Image.open('/content/drive/My Drive/IA/WTC.jpg')\n",
        "img"
      ],
      "execution_count": null,
      "outputs": []
    },
    {
      "cell_type": "code",
      "metadata": {
        "id": "s8fFM7OUlu9z",
        "colab_type": "code",
        "colab": {
          "base_uri": "https://localhost:8080/",
          "height": 34
        },
        "outputId": "9a7601aa-5f02-48ba-a70f-2c76a9365128"
      },
      "source": [
        "type(img)"
      ],
      "execution_count": null,
      "outputs": [
        {
          "output_type": "execute_result",
          "data": {
            "text/plain": [
              "PIL.JpegImagePlugin.JpegImageFile"
            ]
          },
          "metadata": {
            "tags": []
          },
          "execution_count": 85
        }
      ]
    },
    {
      "cell_type": "code",
      "metadata": {
        "id": "gdZpanwflw6j",
        "colab_type": "code",
        "colab": {}
      },
      "source": [
        "imgarray = np.asarray(img)"
      ],
      "execution_count": null,
      "outputs": []
    },
    {
      "cell_type": "code",
      "metadata": {
        "id": "BwPh2f-flypO",
        "colab_type": "code",
        "colab": {
          "base_uri": "https://localhost:8080/",
          "height": 34
        },
        "outputId": "c911340d-67a2-485b-bbd9-af7e241d862d"
      },
      "source": [
        "type(imgarray)"
      ],
      "execution_count": null,
      "outputs": [
        {
          "output_type": "execute_result",
          "data": {
            "text/plain": [
              "numpy.ndarray"
            ]
          },
          "metadata": {
            "tags": []
          },
          "execution_count": 87
        }
      ]
    },
    {
      "cell_type": "code",
      "metadata": {
        "id": "2X43g3Hkl0sd",
        "colab_type": "code",
        "colab": {
          "base_uri": "https://localhost:8080/",
          "height": 34
        },
        "outputId": "dc04bfb4-570b-4644-b290-65fe86cd76be"
      },
      "source": [
        "imgarray.shape # 3 represents the RGB"
      ],
      "execution_count": null,
      "outputs": [
        {
          "output_type": "execute_result",
          "data": {
            "text/plain": [
              "(2330, 2250, 3)"
            ]
          },
          "metadata": {
            "tags": []
          },
          "execution_count": 88
        }
      ]
    },
    {
      "cell_type": "code",
      "metadata": {
        "id": "zSMwoqgLl2qR",
        "colab_type": "code",
        "colab": {}
      },
      "source": [
        "imgarray.ravel().shape"
      ],
      "execution_count": null,
      "outputs": []
    },
    {
      "cell_type": "code",
      "metadata": {
        "id": "Mv79v9LFl5p4",
        "colab_type": "code",
        "colab": {
          "base_uri": "https://localhost:8080/",
          "height": 34
        },
        "outputId": "1b6fd0c3-7bbc-4caf-b7ac-d2498194ed1b"
      },
      "source": [
        "2330 * 2250 * 3"
      ],
      "execution_count": null,
      "outputs": [
        {
          "output_type": "execute_result",
          "data": {
            "text/plain": [
              "15727500"
            ]
          },
          "metadata": {
            "tags": []
          },
          "execution_count": 89
        }
      ]
    },
    {
      "cell_type": "markdown",
      "metadata": {
        "id": "VaYCnsNQmAqa",
        "colab_type": "text"
      },
      "source": [
        "###Sound"
      ]
    },
    {
      "cell_type": "code",
      "metadata": {
        "id": "PHtOHReal-As",
        "colab_type": "code",
        "colab": {}
      },
      "source": [
        "from scipy.io import wavfile"
      ],
      "execution_count": null,
      "outputs": []
    },
    {
      "cell_type": "code",
      "metadata": {
        "id": "0nYq3vJrmNur",
        "colab_type": "code",
        "colab": {}
      },
      "source": [
        "rate, snd = wavfile.read(filename='/content/drive/My Drive/IA/sms.wav')"
      ],
      "execution_count": null,
      "outputs": []
    },
    {
      "cell_type": "code",
      "metadata": {
        "id": "Uba7OAmvmTtY",
        "colab_type": "code",
        "colab": {}
      },
      "source": [
        "from IPython.display import Audio"
      ],
      "execution_count": null,
      "outputs": []
    },
    {
      "cell_type": "code",
      "metadata": {
        "id": "fMKp-IsBmVtm",
        "colab_type": "code",
        "colab": {
          "base_uri": "https://localhost:8080/",
          "height": 75
        },
        "outputId": "362731e0-cd92-48a8-d102-0f7aafea2a4e"
      },
      "source": [
        "Audio(data=snd, rate=rate)"
      ],
      "execution_count": null,
      "outputs": [
        {
          "output_type": "execute_result",
          "data": {
            "text/html": [
              "\n",
              "                <audio controls=\"controls\" >\n",
              "                    <source src=\"data:audio/wav;base64,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\" type=\"audio/wav\" />\n",
              "                    Your browser does not support the audio element.\n",
              "                </audio>\n",
              "              "
            ],
            "text/plain": [
              "<IPython.lib.display.Audio object>"
            ]
          },
          "metadata": {
            "tags": []
          },
          "execution_count": 95
        }
      ]
    },
    {
      "cell_type": "code",
      "metadata": {
        "id": "TrdQbF-GmXSm",
        "colab_type": "code",
        "colab": {
          "base_uri": "https://localhost:8080/",
          "height": 34
        },
        "outputId": "1b6e6cc7-3de9-4b1d-c301-9ea59eabcf2d"
      },
      "source": [
        "len(snd)"
      ],
      "execution_count": null,
      "outputs": [
        {
          "output_type": "execute_result",
          "data": {
            "text/plain": [
              "110250"
            ]
          },
          "metadata": {
            "tags": []
          },
          "execution_count": 96
        }
      ]
    },
    {
      "cell_type": "code",
      "metadata": {
        "id": "aclc9lxemZv_",
        "colab_type": "code",
        "colab": {
          "base_uri": "https://localhost:8080/",
          "height": 34
        },
        "outputId": "680c738e-2caf-4a71-b5a0-dec3edaa0008"
      },
      "source": [
        "snd"
      ],
      "execution_count": null,
      "outputs": [
        {
          "output_type": "execute_result",
          "data": {
            "text/plain": [
              "array([70, 14, 27, ..., 58, 68, 59], dtype=int16)"
            ]
          },
          "metadata": {
            "tags": []
          },
          "execution_count": 97
        }
      ]
    },
    {
      "cell_type": "code",
      "metadata": {
        "id": "ZcLsz4YLmbY4",
        "colab_type": "code",
        "colab": {
          "base_uri": "https://localhost:8080/",
          "height": 282
        },
        "outputId": "e5ec1cfb-4a83-4e02-9ea6-a32d52b109ae"
      },
      "source": [
        "plt.plot(snd)"
      ],
      "execution_count": null,
      "outputs": [
        {
          "output_type": "execute_result",
          "data": {
            "text/plain": [
              "[<matplotlib.lines.Line2D at 0x7fea64d36c18>]"
            ]
          },
          "metadata": {
            "tags": []
          },
          "execution_count": 98
        },
        {
          "output_type": "display_data",
          "data": {
            "image/png": "[encoded data removed]",
            "text/plain": [
              "<Figure size 432x288 with 1 Axes>"
            ]
          },
          "metadata": {
            "tags": [],
            "needs_background": "light"
          }
        }
      ]
    },
    {
      "cell_type": "code",
      "metadata": {
        "id": "DJnn02D-mhTP",
        "colab_type": "code",
        "colab": {}
      },
      "source": [
        "\n",
        "_ = plt.specgram(snd, NFFT=1024, Fs=44100)\n",
        "plt.ylabel('Frequency (Hz)')\n",
        "plt.xlabel('Time (s)')"
      ],
      "execution_count": null,
      "outputs": []
    },
    {
      "cell_type": "code",
      "metadata": {
        "id": "xNLBpjKQZwj2",
        "colab_type": "code",
        "colab": {}
      },
      "source": [
        ""
      ],
      "execution_count": null,
      "outputs": []
    }
  ]
}