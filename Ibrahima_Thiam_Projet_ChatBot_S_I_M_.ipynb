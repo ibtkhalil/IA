{
  "nbformat": 4,
  "nbformat_minor": 0,
  "metadata": {
    "colab": {
      "name": "Ibrahima - Thiam - Projet-ChatBot-S_I_M .ipynb",
      "provenance": [],
      "include_colab_link": true
    },
    "kernelspec": {
      "name": "python3",
      "display_name": "Python 3"
    }
  },
  "cells": [
    {
      "cell_type": "markdown",
      "metadata": {
        "id": "view-in-github",
        "colab_type": "text"
      },
      "source": [
        "<a href=\"https://colab.research.google.com/github/ibtkhalil/IA/blob/master/Ibrahima_Thiam_Projet_ChatBot_S_I_M_.ipynb\" target=\"_parent\"><img src=\"https://colab.research.google.com/assets/colab-badge.svg\" alt=\"Open In Colab\"/></a>"
      ]
    },
    {
      "cell_type": "markdown",
      "metadata": {
        "id": "XKSWP0tvgNB_",
        "colab_type": "text"
      },
      "source": [
        "we left here: https://medium.com/analytics-vidhya/building-a-simple-chatbot-in-python-using-nltk-7c8c8215ac6e"
      ]
    },
    {
      "cell_type": "code",
      "metadata": {
        "id": "YaVp8fqWbgJ9",
        "colab_type": "code",
        "colab": {
          "base_uri": "https://localhost:8080/",
          "height": 51
        },
        "outputId": "b257e9f6-e05c-4525-f5f6-9b770a043325"
      },
      "source": [
        "pip install nltk"
      ],
      "execution_count": 1,
      "outputs": [
        {
          "output_type": "stream",
          "text": [
            "Requirement already satisfied: nltk in /usr/local/lib/python3.6/dist-packages (3.2.5)\n",
            "Requirement already satisfied: six in /usr/local/lib/python3.6/dist-packages (from nltk) (1.12.0)\n"
          ],
          "name": "stdout"
        }
      ]
    },
    {
      "cell_type": "code",
      "metadata": {
        "id": "Oscc2Gqqtxmx",
        "colab_type": "code",
        "colab": {
          "base_uri": "https://localhost:8080/",
          "height": 377
        },
        "outputId": "9faa48e1-39a8-4a74-e53f-44781c30a468"
      },
      "source": [
        "pip install spacy"
      ],
      "execution_count": 2,
      "outputs": [
        {
          "output_type": "stream",
          "text": [
            "Requirement already satisfied: spacy in /usr/local/lib/python3.6/dist-packages (2.2.4)\n",
            "Requirement already satisfied: setuptools in /usr/local/lib/python3.6/dist-packages (from spacy) (47.3.1)\n",
            "Requirement already satisfied: numpy>=1.15.0 in /usr/local/lib/python3.6/dist-packages (from spacy) (1.18.5)\n",
            "Requirement already satisfied: srsly<1.1.0,>=1.0.2 in /usr/local/lib/python3.6/dist-packages (from spacy) (1.0.2)\n",
            "Requirement already satisfied: blis<0.5.0,>=0.4.0 in /usr/local/lib/python3.6/dist-packages (from spacy) (0.4.1)\n",
            "Requirement already satisfied: wasabi<1.1.0,>=0.4.0 in /usr/local/lib/python3.6/dist-packages (from spacy) (0.6.0)\n",
            "Requirement already satisfied: tqdm<5.0.0,>=4.38.0 in /usr/local/lib/python3.6/dist-packages (from spacy) (4.41.1)\n",
            "Requirement already satisfied: requests<3.0.0,>=2.13.0 in /usr/local/lib/python3.6/dist-packages (from spacy) (2.23.0)\n",
            "Requirement already satisfied: thinc==7.4.0 in /usr/local/lib/python3.6/dist-packages (from spacy) (7.4.0)\n",
            "Requirement already satisfied: cymem<2.1.0,>=2.0.2 in /usr/local/lib/python3.6/dist-packages (from spacy) (2.0.3)\n",
            "Requirement already satisfied: plac<1.2.0,>=0.9.6 in /usr/local/lib/python3.6/dist-packages (from spacy) (1.1.3)\n",
            "Requirement already satisfied: catalogue<1.1.0,>=0.0.7 in /usr/local/lib/python3.6/dist-packages (from spacy) (1.0.0)\n",
            "Requirement already satisfied: murmurhash<1.1.0,>=0.28.0 in /usr/local/lib/python3.6/dist-packages (from spacy) (1.0.2)\n",
            "Requirement already satisfied: preshed<3.1.0,>=3.0.2 in /usr/local/lib/python3.6/dist-packages (from spacy) (3.0.2)\n",
            "Requirement already satisfied: idna<3,>=2.5 in /usr/local/lib/python3.6/dist-packages (from requests<3.0.0,>=2.13.0->spacy) (2.9)\n",
            "Requirement already satisfied: certifi>=2017.4.17 in /usr/local/lib/python3.6/dist-packages (from requests<3.0.0,>=2.13.0->spacy) (2020.4.5.2)\n",
            "Requirement already satisfied: urllib3!=1.25.0,!=1.25.1,<1.26,>=1.21.1 in /usr/local/lib/python3.6/dist-packages (from requests<3.0.0,>=2.13.0->spacy) (1.24.3)\n",
            "Requirement already satisfied: chardet<4,>=3.0.2 in /usr/local/lib/python3.6/dist-packages (from requests<3.0.0,>=2.13.0->spacy) (3.0.4)\n",
            "Requirement already satisfied: importlib-metadata>=0.20; python_version < \"3.8\" in /usr/local/lib/python3.6/dist-packages (from catalogue<1.1.0,>=0.0.7->spacy) (1.6.1)\n",
            "Requirement already satisfied: zipp>=0.5 in /usr/local/lib/python3.6/dist-packages (from importlib-metadata>=0.20; python_version < \"3.8\"->catalogue<1.1.0,>=0.0.7->spacy) (3.1.0)\n"
          ],
          "name": "stdout"
        }
      ]
    },
    {
      "cell_type": "code",
      "metadata": {
        "id": "6z7tbwg8u1kc",
        "colab_type": "code",
        "colab": {
          "base_uri": "https://localhost:8080/",
          "height": 85
        },
        "outputId": "42a82332-8ace-4691-9a68-5344b3270908"
      },
      "source": [
        "pip install pyttsx3"
      ],
      "execution_count": 3,
      "outputs": [
        {
          "output_type": "stream",
          "text": [
            "Collecting pyttsx3\n",
            "  Downloading https://files.pythonhosted.org/packages/bb/1d/cd20dac738d0b0e94d758ee8075e724eae871eca466642c87b4109eef490/pyttsx3-2.88-py3-none-any.whl\n",
            "Installing collected packages: pyttsx3\n",
            "Successfully installed pyttsx3-2.88\n"
          ],
          "name": "stdout"
        }
      ]
    },
    {
      "cell_type": "code",
      "metadata": {
        "id": "2S0HS-4xbmg0",
        "colab_type": "code",
        "colab": {}
      },
      "source": [
        "import nltk \n",
        "import io\n",
        "from nltk.corpus import wordnet as wn\n",
        "from nltk.corpus import WordNetCorpusReader\n",
        "from nltk.corpus import stopwords\n",
        "import numpy as np \n",
        "import random \n",
        "import string\n",
        "import warnings\n",
        "warnings.filterwarnings('ignore')"
      ],
      "execution_count": 4,
      "outputs": []
    },
    {
      "cell_type": "code",
      "metadata": {
        "id": "pUbTLBYMbmmb",
        "colab_type": "code",
        "colab": {
          "base_uri": "https://localhost:8080/",
          "height": 122
        },
        "outputId": "a3f16e46-395b-4332-f4b0-e4b568d4cbfa"
      },
      "source": [
        "# Connecting Google Drive Data Files to Google Colab Notebook.\n",
        "# Load the Google Drive helper and mount the drive.\n",
        "from google.colab import drive\n",
        "\n",
        "# This will prompt for authorization. Click the link and provide the required information.\n",
        "\n",
        "drive.mount('/content/drive')"
      ],
      "execution_count": 5,
      "outputs": [
        {
          "output_type": "stream",
          "text": [
            "Go to this URL in a browser: https://accounts.google.com/o/oauth2/auth?client_id=947318989803-6bn6qk8qdgf4n4g3pfee6491hc0brc4i.apps.googleusercontent.com&redirect_uri=urn%3aietf%3awg%3aoauth%3a2.0%3aoob&response_type=code&scope=email%20https%3a%2f%2fwww.googleapis.com%2fauth%2fdocs.test%20https%3a%2f%2fwww.googleapis.com%2fauth%2fdrive%20https%3a%2f%2fwww.googleapis.com%2fauth%2fdrive.photos.readonly%20https%3a%2f%2fwww.googleapis.com%2fauth%2fpeopleapi.readonly\n",
            "\n",
            "Enter your authorization code:\n",
            "··········\n",
            "Mounted at /content/drive\n"
          ],
          "name": "stdout"
        }
      ]
    },
    {
      "cell_type": "code",
      "metadata": {
        "id": "A3GT_UHNbmp4",
        "colab_type": "code",
        "colab": {
          "base_uri": "https://localhost:8080/",
          "height": 34
        },
        "outputId": "152fddac-53b4-4ca1-a241-2365d8374a09"
      },
      "source": [
        "# List the content of YOUR google drive\n",
        "!ls \"/content/drive/My Drive/IA/projetIA\""
      ],
      "execution_count": 6,
      "outputs": [
        {
          "output_type": "stream",
          "text": [
            "grettings.txt  python6.txt  robotique.txt\n"
          ],
          "name": "stdout"
        }
      ]
    },
    {
      "cell_type": "code",
      "metadata": {
        "id": "XHEnWia5bmut",
        "colab_type": "code",
        "colab": {
          "base_uri": "https://localhost:8080/",
          "height": 85
        },
        "outputId": "9018f1b3-d5ad-422a-9f27-ef3d7845f07d"
      },
      "source": [
        "f=open('/content/drive/My Drive/IA/projetIA/python6.txt','r',errors = 'ignore')\n",
        "m=open('/content/drive/My Drive/IA/projetIA/robotique.txt','r',errors = 'ignore')\n",
        "s=open('/content/drive/My Drive/IA/projetIA/grettings.txt','r',errors = 'ignore')\n",
        "raw=f.read()\n",
        "raw=m.read()\n",
        "raw=s.read()\n",
        "raw=raw.lower()# converts to lowercase\n",
        "nltk.download('punkt') # first-time use only\n",
        "#nltk.download('wordnet') # first-time use only\n",
        "nltk.download('stopwords')\n",
        "#nltk.download('fr_core_news_md')\n",
        "sent_tokens = nltk.sent_tokenize(raw)# converts to list of sentences \n",
        "word_tokens = nltk.word_tokenize(raw)# converts to list of words"
      ],
      "execution_count": 8,
      "outputs": [
        {
          "output_type": "stream",
          "text": [
            "[nltk_data] Downloading package punkt to /root/nltk_data...\n",
            "[nltk_data]   Unzipping tokenizers/punkt.zip.\n",
            "[nltk_data] Downloading package stopwords to /root/nltk_data...\n",
            "[nltk_data]   Unzipping corpora/stopwords.zip.\n"
          ],
          "name": "stdout"
        }
      ]
    },
    {
      "cell_type": "code",
      "metadata": {
        "id": "I5bBZolfv8Eu",
        "colab_type": "code",
        "colab": {}
      },
      "source": [
        "texte = 'my name is Ibrahima'"
      ],
      "execution_count": 9,
      "outputs": []
    },
    {
      "cell_type": "code",
      "metadata": {
        "id": "e52prSb62SSA",
        "colab_type": "code",
        "colab": {
          "base_uri": "https://localhost:8080/",
          "height": 34
        },
        "outputId": "4e11664c-f9b9-4991-a2f7-28a5572afd10"
      },
      "source": [
        "nltk.word_tokenize(texte)"
      ],
      "execution_count": 10,
      "outputs": [
        {
          "output_type": "execute_result",
          "data": {
            "text/plain": [
              "['my', 'name', 'is', 'Ibrahima']"
            ]
          },
          "metadata": {
            "tags": []
          },
          "execution_count": 10
        }
      ]
    },
    {
      "cell_type": "code",
      "metadata": {
        "id": "BZaeJaW82gPn",
        "colab_type": "code",
        "colab": {}
      },
      "source": [
        "stopwords = nltk.corpus.stopwords.words ( 'french' )"
      ],
      "execution_count": 11,
      "outputs": []
    },
    {
      "cell_type": "code",
      "metadata": {
        "id": "m_M0BtEa2jgy",
        "colab_type": "code",
        "colab": {
          "base_uri": "https://localhost:8080/",
          "height": 34
        },
        "outputId": "700543b6-41f5-4825-f8aa-6b2897cf1b58"
      },
      "source": [
        "stopwords[:5]"
      ],
      "execution_count": 12,
      "outputs": [
        {
          "output_type": "execute_result",
          "data": {
            "text/plain": [
              "['au', 'aux', 'avec', 'ce', 'ces']"
            ]
          },
          "metadata": {
            "tags": []
          },
          "execution_count": 12
        }
      ]
    },
    {
      "cell_type": "code",
      "metadata": {
        "id": "u_5DzSAjb3DM",
        "colab_type": "code",
        "colab": {
          "base_uri": "https://localhost:8080/",
          "height": 51
        },
        "outputId": "5355fa04-e7a2-42d8-f130-6fd6b5f32585"
      },
      "source": [
        "sent_tokens [:2]"
      ],
      "execution_count": 13,
      "outputs": [
        {
          "output_type": "execute_result",
          "data": {
            "text/plain": [
              "['categories:\\n- greetings\\nconversations:\\n- - salut\\n  - salut\\n- - hey\\n  - hey\\n- - bonjour!',\n",
              " '- salut\\n- - salut\\n  - bonjour!']"
            ]
          },
          "metadata": {
            "tags": []
          },
          "execution_count": 13
        }
      ]
    },
    {
      "cell_type": "code",
      "metadata": {
        "id": "GwvqGDJgb3Ux",
        "colab_type": "code",
        "colab": {
          "base_uri": "https://localhost:8080/",
          "height": 34
        },
        "outputId": "b953be55-f9c0-452f-fa9e-a111f3ff735d"
      },
      "source": [
        "word_tokens[:5]"
      ],
      "execution_count": 14,
      "outputs": [
        {
          "output_type": "execute_result",
          "data": {
            "text/plain": [
              "['categories', ':', '-', 'greetings', 'conversations']"
            ]
          },
          "metadata": {
            "tags": []
          },
          "execution_count": 14
        }
      ]
    },
    {
      "cell_type": "code",
      "metadata": {
        "id": "VJfvx-1db3kJ",
        "colab_type": "code",
        "colab": {}
      },
      "source": [
        "#lemmer = nltk.stem.WordNetLemmatizer()\n",
        "stemmer=nltk.stem.SnowballStemmer('french')\n",
        "#stemmer=nltk.stem.snowball.FrenchStemmer()\n",
        "#WordNet is a semantically-oriented dictionary of English included in NLTK.\n",
        "def LemTokens(tokens):\n",
        "    #return [lemmer.lemmatize(token) for token in tokens]\n",
        "    return [stemmer.stem(token) for token in tokens]\n",
        "remove_punct_dict = dict((ord(punct), None) for punct in string.punctuation)\n",
        "def LemNormalize(text):\n",
        "    return LemTokens(nltk.word_tokenize(text.lower().translate(remove_punct_dict)))"
      ],
      "execution_count": 15,
      "outputs": []
    },
    {
      "cell_type": "code",
      "metadata": {
        "id": "bA38q-jQbmzz",
        "colab_type": "code",
        "colab": {}
      },
      "source": [
        "Introduce_Ans = [\"Mon nom est PyBot.\" , \"Mon nom est PyBot, vous pouvez m'appeler pi.\" , \"je suis pyBot :)\" , \"Mon nom est PyBot. Et mon surnom est pi et je suis heureux de résoudre vos questions :)\"]\n",
        "GREETING_INPUTS = (\"bonjour\" , \"salut\" , \"salu\" , \"sava\" , \"salam\" , \"ca va\" , \"salutations\" , \"sup\" , \"quoi de neuf\" , \"hé\" ,)\n",
        "GREETING_RESPONSES = [\"salut\" , \"sava bien\" , \"salut là\" , \"sbonjour a vous\" , \"bonjour\" , \"je suis content! Vous me parlez\" ]\n",
        "Basic_Q = (\"qu'est-ce que robotique?\" , \"Qu'est-ce que la robotique\" , \"qu'est-ce que la robotique?\" , \"Qu'est-ce que la robotique.\" )\n",
        "Basic_Ans = \"La robotique est un domaine de recherche interdisciplinaire à l'interface de l' informatique et de l' ingénierie . La robotique implique la conception, la construction, l'exploitation et l'utilisation de robots .\"\n",
        "Basic_Om = (\"qu'est-ce que le patinage \" , \"qu'est-ce que l'informatique quantique.\" , \"Qu'est-ce que le module\" , \"qu'est-ce que le module?\" , \"Qu'est-ce que le module?\" , \"Qu'est-ce que le module en python\" , \"qu'est-ce que le module en python . \" , \" qu'est-ce qu'un module en python? \" , \" qu'est-ce qu'un module en python? \" )\n",
        "Basic_AnsM = [\"Un petit nombre de robots de patinage ont été développés, dont l'un est un appareil multimode de marche et de patinage. Il a quatre jambes, avec des roues non motorisées, qui peuvent marcher ou rouler. [103] Un autre robot, Plen, peut utiliser une planche à roulettes miniature ou des patins à roulettes et patiner sur un bureau.\" , \"Il y a eu quelques recherches pour savoir si les algorithmes de robotique peuvent être exécutés plus rapidement sur des ordinateurs quantiques que sur des ordinateurs numériques . Ce domaine a été appelé robotique quantique. [146]\" , \"Un module peut définir des fonctions, des classes et des variables. Un module peut également inclure du code exécutable. Le regroupement du code associé en un module facilite sa compréhension et son utilisation.\"]"
      ],
      "execution_count": 16,
      "outputs": []
    },
    {
      "cell_type": "code",
      "metadata": {
        "id": "UMRfBXbbjctv",
        "colab_type": "code",
        "colab": {}
      },
      "source": [
        "def greeting(sentence):\n",
        "    for word in sentence.split():\n",
        "        if word.lower() in GREETING_INPUTS:\n",
        "            return random.choice(GREETING_RESPONSES)\n"
      ],
      "execution_count": 17,
      "outputs": []
    },
    {
      "cell_type": "code",
      "metadata": {
        "id": "6JVJamI4jwcL",
        "colab_type": "code",
        "colab": {}
      },
      "source": [
        "def basic(sentence):\n",
        "    for word in Basic_Q:\n",
        "        if sentence.lower() == word:\n",
        "            return Basic_Ans"
      ],
      "execution_count": 18,
      "outputs": []
    },
    {
      "cell_type": "code",
      "metadata": {
        "id": "VGrmShiKj0PW",
        "colab_type": "code",
        "colab": {}
      },
      "source": [
        "\n",
        "# Checking for Basic_QM\n",
        "def basicM(sentence):\n",
        "    \"\"\"If user's input is a greeting, return a greeting response\"\"\"\n",
        "    for word in Basic_Om:\n",
        "        if sentence.lower() == word:\n",
        "            return random.choice(Basic_AnsM)"
      ],
      "execution_count": 19,
      "outputs": []
    },
    {
      "cell_type": "code",
      "metadata": {
        "id": "POwY1T77j6ei",
        "colab_type": "code",
        "colab": {}
      },
      "source": [
        "# Checking for Introduce\n",
        "def IntroduceMe(sentence):\n",
        "    return random.choice(Introduce_Ans)"
      ],
      "execution_count": 20,
      "outputs": []
    },
    {
      "cell_type": "code",
      "metadata": {
        "id": "UO_pPQMRbm32",
        "colab_type": "code",
        "colab": {}
      },
      "source": [
        "from sklearn.feature_extraction.text import TfidfVectorizer"
      ],
      "execution_count": 21,
      "outputs": []
    },
    {
      "cell_type": "code",
      "metadata": {
        "id": "JcaiEtcEc96c",
        "colab_type": "code",
        "colab": {}
      },
      "source": [
        "from sklearn.metrics.pairwise import cosine_similarity"
      ],
      "execution_count": 22,
      "outputs": []
    },
    {
      "cell_type": "code",
      "metadata": {
        "id": "sbmAzh1Fc98p",
        "colab_type": "code",
        "colab": {}
      },
      "source": [
        "def response(user_response):\n",
        "    #stopwords = nltk.corpus.stopwords.words('french')\n",
        "    robo_response=''\n",
        "    sent_tokens.append(user_response)\n",
        "    #final_stopwords_list = stopwords.words('french')\n",
        "    TfidfVec = TfidfVectorizer(tokenizer=LemNormalize, stop_words='english')\n",
        "    tfidf = TfidfVec.fit_transform(sent_tokens)\n",
        "    vals = cosine_similarity(tfidf[-1], tfidf)\n",
        "    idx=vals.argsort()[0][-2]\n",
        "    flat = vals.flatten()\n",
        "    flat.sort()\n",
        "    req_tfidf1 = flat[-2]\n",
        "    if(req_tfidf1==0):\n",
        "        robo_response=robo_response+\"Je suis désolé! Je ne vous comprends pas\"\n",
        "        return robo_response\n",
        "    else:\n",
        "        robo_response = robo_response+sent_tokens[idx]\n",
        "        return robo_response"
      ],
      "execution_count": 23,
      "outputs": []
    },
    {
      "cell_type": "code",
      "metadata": {
        "id": "ywVZlsqfAM8K",
        "colab_type": "code",
        "colab": {
          "base_uri": "https://localhost:8080/",
          "height": 209
        },
        "outputId": "57c59dc6-e0f5-4046-bc6d-f6118ae7bada"
      },
      "source": [
        "flag=True\n",
        "print(\"ChatBot: Mon nom est ChatBot. Je répondrai à vos questions sur les chatbots. Si vous souhaitez quitter, tapez au revoir!\")\n",
        "while(flag==True):\n",
        "    user_response = input()\n",
        "    user_response=user_response.lower()\n",
        "    if(user_response!='au revoir'):\n",
        "            keyword = \"module\"\n",
        "            keywordone = \"module\"\n",
        "            keywordsecond = \"module\" \n",
        "            if(user_response=='merci' or user_response=='merci'):\n",
        "                flag=False\n",
        "                print(\"ChatBot: Vous êtes les bienvenus ..\")\n",
        "                #return \"You are welcome..\"\n",
        "            elif(basicM(user_response)!=None):\n",
        "                print(basicM(user_response))\n",
        "            else:\n",
        "                if(user_response.find(keyword) != -1 or user_response.find(keywordone) != -1 or user_response.find(keywordsecond) != -1):\n",
        "                    print(\"ChatBot: \",end=\"\")\n",
        "                    print(responseone(user_response))\n",
        "                    #return responseone(user_response)\n",
        "                    sent_tokensone.remove(user_response)\n",
        "                elif(greeting(user_response)!=None):\n",
        "                    print(\"ChatBot: \"+greeting(user_response))\n",
        "                    #return greeting(user_response)\n",
        "                elif(user_response.find(\"votre nom\") != -1 or user_response.find(\" votre nom\") != -1 or user_response.find(\"votre nom \") != -1 or user_response.find(\"votre nom\") != -1):\n",
        "                    print(IntroduceMe(user_response))\n",
        "                elif(basic(user_response)!=None):\n",
        "                    print(basic(user_response))\n",
        "                else:\n",
        "                    print(\"ChatBot: \",end=\"\")\n",
        "                    print(response(user_response))\n",
        "                    sent_tokens.remove(user_response)\n",
        "                    \n",
        "    else:\n",
        "            flag=False\n",
        "            print(\"ChatBot: Au revoir! prends soin de toi..\")\n",
        "            #return \"Bye! take care..\""
      ],
      "execution_count": null,
      "outputs": [
        {
          "output_type": "stream",
          "text": [
            "ChatBot: Mon nom est ChatBot. Je répondrai à vos questions sur les chatbots. Si vous souhaitez quitter, tapez au revoir!\n",
            "salut\n",
            "ChatBot: sava bien\n",
            "Qu'est-ce que la robotique\n",
            "ChatBot: Je suis désolé! Je ne vous comprends pas\n",
            "Qu'est-ce que la robotique?\n",
            "La robotique est un domaine de recherche interdisciplinaire à l'interface de l' informatique et de l' ingénierie . La robotique implique la conception, la construction, l'exploitation et l'utilisation de robots .\n",
            "qu'est-ce que le module?\n",
            "Il y a eu quelques recherches pour savoir si les algorithmes de robotique peuvent être exécutés plus rapidement sur des ordinateurs quantiques que sur des ordinateurs numériques . Ce domaine a été appelé robotique quantique. [146]\n"
          ],
          "name": "stdout"
        }
      ]
    },
    {
      "cell_type": "code",
      "metadata": {
        "id": "vck62Mv5c-LC",
        "colab_type": "code",
        "colab": {}
      },
      "source": [
        ""
      ],
      "execution_count": null,
      "outputs": []
    }
  ]
}